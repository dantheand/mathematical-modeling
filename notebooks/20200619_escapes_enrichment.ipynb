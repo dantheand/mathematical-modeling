{
 "cells": [
  {
   "cell_type": "markdown",
   "metadata": {},
   "source": [
    "# 20200619 Escape enrichment modeling\n",
    "### Goals of notebook\n",
    "* use modeling framework to show how escapes will enrich given their libary proportion and other members in the library\n",
    "\n",
    "### Parameters of interest\n",
    "* relative REU values (mapped to relative growth rates)\n",
    "* different Cm concentrations"
   ]
  },
  {
   "cell_type": "markdown",
   "metadata": {},
   "source": [
    "$f_{+}(t=0) : \\{0.5,10^{-1},10^{-2},10^{-3}\\}$"
   ]
  },
  {
   "cell_type": "markdown",
   "metadata": {},
   "source": [
    "# Validating relative growth rates and plotting growth curves\n",
    "Need to show that simulating the system with relative growth rates is the same as simulating the system with absolute growth rates. Hard to do this analytically because I can't find a general solution to competitive Lotke-Volterre equations...\n",
    "\n",
    "Test case: Two species, $x_1$ and $x_2$, with absolute growth rates, $r_1 = 0.25, r_2 = 0.125$, and relative growth rates of $\\bar{r_1} = 1, \\bar{r_2} = 0.5$.\n",
    "\n",
    "How does the system evolve over time for each?"
   ]
  },
  {
   "cell_type": "code",
   "execution_count": null,
   "metadata": {},
   "outputs": [],
   "source": [
    "import importlib\n",
    "import numpy as np\n",
    "import matplotlib.pyplot as plt\n",
    "import seaborn as sns\n",
    "import pandas as pd\n",
    "\n",
    "import matplotlib\n",
    "matplotlib.rc('figure', dpi = 125)\n",
    "sns.set_palette('muted')\n",
    "sns.set_style('ticks')\n",
    "\n",
    "import sys\n",
    "sys.path.append('../modules')\n",
    "import enrichments"
   ]
  },
  {
   "cell_type": "code",
   "execution_count": null,
   "metadata": {},
   "outputs": [],
   "source": [
    "data_dir = os.path.realpath('../data')"
   ]
  },
  {
   "cell_type": "code",
   "execution_count": null,
   "metadata": {},
   "outputs": [],
   "source": [
    "importlib.reload(enrichments)"
   ]
  },
  {
   "cell_type": "code",
   "execution_count": null,
   "metadata": {},
   "outputs": [],
   "source": [
    "# Define initial values and normalize them to fraction\n",
    "lib_sz = 1e8\n",
    "x_i0 = np.array([lib_sz-12,10, 1,1])\n",
    "x_i0_norm = x_i0/np.sum(x_i0)\n",
    "\n",
    "\n",
    "# Define absolute rates and relative rates\n",
    "r_i = np.array([0,0.2,0.5,0.8])\n",
    "r_i_norm = r_i / np.max(r_i)\n",
    "\n",
    "dil = 100\n",
    "\n",
    "sys_1 = enrichments.Growth_tube(x_i0_norm, r_i_norm, dil)\n",
    "sys_1.sim_growth()"
   ]
  },
  {
   "cell_type": "code",
   "execution_count": null,
   "metadata": {},
   "outputs": [],
   "source": [
    "fig, ax = plt.subplots(figsize = (4,4))\n",
    "\n",
    "sys_1.plot_x_t(ax)\n",
    "\n",
    "ax.set_xlabel('Time')\n",
    "ax.set_ylabel('Normalized abundance')\n",
    "\n",
    "plt.show()"
   ]
  },
  {
   "cell_type": "code",
   "execution_count": null,
   "metadata": {},
   "outputs": [],
   "source": [
    "print('Enrichment vals:', sys_1.x_t[:,-1])"
   ]
  },
  {
   "cell_type": "markdown",
   "metadata": {},
   "source": [
    "### Hypothetical library\n",
    "\n",
    "* $10^8$ members\n",
    "* 10000 weak hits\n",
    "* 1 perfect hit\n",
    "* 3000 escapes (or anticrispr hits, these are the same)"
   ]
  },
  {
   "cell_type": "code",
   "execution_count": null,
   "metadata": {},
   "outputs": [],
   "source": [
    "# Import df w/ growth rates for each library member eyeballed from plot above\n",
    "df_growth= pd.read_excel(data_dir + '/anticrispr_growths.xlsx')\n",
    "df_growth"
   ]
  },
  {
   "cell_type": "code",
   "execution_count": null,
   "metadata": {},
   "outputs": [],
   "source": [
    "# Function to simulate one round of selection at various Cm values (and dcas9 types)\n",
    "def round_grow_sim(procas9, df_growth, x_i0, df_enrich):\n",
    "    cms = df_growth['cm'].unique()\n",
    "    # Loop for each value of Cm\n",
    "    for cm in cms:\n",
    "        # Get growth rates of everything for a given Cm value\n",
    "        lib_types = ['no_hit', 'weak_hit', procas9, 'anticrispr_hit']\n",
    "        gr_rates = np.empty(len(lib_types))\n",
    "        for count, lib_memb in enumerate(lib_types):\n",
    "            rate = df_growth[(df_growth['cm'] == cm) & (df_growth['strain'] == lib_memb)]['rel_growth'].values[0]\n",
    "            gr_rates[count] = rate\n",
    "\n",
    "        x_i0_norm = x_i0/np.sum(x_i0)\n",
    "\n",
    "        # Define growth rates from data above\n",
    "        r_i = gr_rates\n",
    "\n",
    "        dil = 100\n",
    "        # Simulate the system\n",
    "        sys = enrichments.Growth_tube(x_i0_norm, r_i, dil)\n",
    "        sys.sim_growth()\n",
    "\n",
    "        # retrieve enrichments and add to dataframe\n",
    "        for i, strain in enumerate(['no_hit', 'weak_hit', procas9, 'anticrispr_hit']):\n",
    "            enrichment = sys.enrichs[i]\n",
    "            frac = sys.x_t[i,-1] / np.sum(sys.x_t[:,-1])\n",
    "\n",
    "            new_row = {'strain': strain, 'cm': cm, 'enrich': enrichment, 'frac': frac, 'procas9_type': procas9}\n",
    "            df_enrich = df_enrich.append(new_row, ignore_index = True)\n",
    "\n",
    "    return df_enrich\n",
    "\n",
    "\n",
    "# Function to plot fractions of the library\n",
    "def plot_lib_frac(df_enrich, procas9s):\n",
    "    sns.set_style('ticks')\n",
    "    fig, axs = plt.subplots(1,2,figsize = (8,4))\n",
    "    plt.tight_layout(pad = 3)\n",
    "\n",
    "    for procas9, ax in zip(procas9s, axs):\n",
    "\n",
    "        # subset df to only include enrichment results for given procas9\n",
    "        sub_df = df_enrich[df_enrich['procas9_type'] == procas9]\n",
    "\n",
    "        sns.lineplot(x = 'cm', y = 'frac', hue = 'strain', data = sub_df, ax = ax)\n",
    "\n",
    "        ax.set_yscale('log')\n",
    "        ax.set_ylim([1e-9,10])\n",
    "        ax.set_xlabel('Chloramphenicol (uM)')\n",
    "        ax.set_ylabel('Fractions after one round')\n",
    "        ax.legend(['Non hits', 'Weak hits', 'Real hit', 'Escapes'],bbox_to_anchor=(1.05, 1))\n",
    "\n",
    "        if procas9 == 'VKLQ-0_hit':\n",
    "            ax.set_title('Previous pro-dCas9')\n",
    "            ax.get_legend().remove()\n",
    "        else:\n",
    "            ax.set_title('Tightened linker pro-dCas9')\n",
    "\n",
    "    plt.show()"
   ]
  },
  {
   "cell_type": "code",
   "execution_count": null,
   "metadata": {},
   "outputs": [],
   "source": [
    "# Simulate two different sets of libraries: one w/ the old proCas9, one with the new proCas9\n",
    "procas9s = ['VKLQ-0_hit', 'VKLQ-6_hit']"
   ]
  },
  {
   "cell_type": "code",
   "execution_count": null,
   "metadata": {},
   "outputs": [],
   "source": [
    "# Create df to store enrichment values for this round\n",
    "df_enrich_1 = pd.DataFrame(columns = ['strain', 'cm', 'enrich', 'frac', 'procas9_type'])\n",
    "\n",
    "# Instantiate library\n",
    "lib_sz = 1e8\n",
    "\n",
    "# Set library proportions here ['no_hit', 'weak_hit', procas9, 'anticrispr_hit']\n",
    "x_i0 = np.array([lib_sz-13001,10000, 1,3000])\n",
    "\n",
    "# Run simulations over various Cm values\n",
    "for procas9 in procas9s:\n",
    "    df_enrich_1 = round_grow_sim(procas9, df_growth, x_i0, df_enrich_1)"
   ]
  },
  {
   "cell_type": "code",
   "execution_count": null,
   "metadata": {},
   "outputs": [],
   "source": [
    "df_enrich_1.head()"
   ]
  },
  {
   "cell_type": "code",
   "execution_count": null,
   "metadata": {},
   "outputs": [],
   "source": [
    "plot_lib_frac(df_enrich_1, procas9s)"
   ]
  },
  {
   "cell_type": "markdown",
   "metadata": {},
   "source": [
    "## Simulate enrichments over another round of selection (use the 500uM Cm value to input into the next round)"
   ]
  },
  {
   "cell_type": "code",
   "execution_count": null,
   "metadata": {},
   "outputs": [],
   "source": [
    "cm_val = 500\n",
    "df_enrich_1[df_enrich_1['cm'] == cm_val]"
   ]
  },
  {
   "cell_type": "code",
   "execution_count": null,
   "metadata": {},
   "outputs": [],
   "source": [
    "# Pull out fraction of the library that the hit is (with either procas9)\n",
    "new_hit_f = {}\n",
    "for procas9 in procas9s:\n",
    "    new_hit_f[procas9] = df_enrich_1[(df_enrich_1['cm'] == cm_val) & (df_enrich_1['strain'] == procas9)]['frac'].values[0]\n",
    "new_hit_f"
   ]
  },
  {
   "cell_type": "markdown",
   "metadata": {},
   "source": [
    "## Round 2"
   ]
  },
  {
   "cell_type": "code",
   "execution_count": null,
   "metadata": {},
   "outputs": [],
   "source": [
    "# Create df to store enrichment values for this round\n",
    "df_enrich_2 = pd.DataFrame(columns = ['strain', 'cm', 'enrich', 'frac', 'procas9_type'])\n",
    "\n",
    "\n",
    "for procas9 in procas9s:\n",
    "    # Set library proportions here ['no_hit', 'weak_hit', procas9, 'anticrispr_hit']\n",
    "    x_i0 = np.array([lib_sz-3000-(lib_sz*new_hit_f[procas9]),1, lib_sz*new_hit_f[procas9],3000])\n",
    "\n",
    "    # Run simulations over various Cm values and procas9 type\n",
    "    df_enrich_2 = round_grow_sim(procas9, df_growth, x_i0, df_enrich_2)"
   ]
  },
  {
   "cell_type": "code",
   "execution_count": null,
   "metadata": {},
   "outputs": [],
   "source": [
    "plot_lib_frac(df_enrich_2, procas9s)"
   ]
  },
  {
   "cell_type": "markdown",
   "metadata": {},
   "source": [
    "## Round 3 (use the same Cm value from previous round to select on)"
   ]
  },
  {
   "cell_type": "code",
   "execution_count": null,
   "metadata": {},
   "outputs": [],
   "source": [
    "new_hit_f_2 = {}\n",
    "for procas9 in procas9s:\n",
    "    new_hit_f_2[procas9] = df_enrich_2[(df_enrich_2['cm'] == cm_val) & (df_enrich_2['strain'] == procas9)]['frac'].values[0]\n",
    "new_hit_f_2"
   ]
  },
  {
   "cell_type": "code",
   "execution_count": null,
   "metadata": {},
   "outputs": [],
   "source": [
    "# Create df to store enrichment values for this round\n",
    "df_enrich_3 = pd.DataFrame(columns = ['strain', 'cm', 'enrich', 'frac', 'procas9_type'])\n",
    "\n",
    "for procas9 in procas9s:\n",
    "    # Set library proportions here ['no_hit', 'weak_hit', procas9, 'anticrispr_hit']\n",
    "    x_i0 = np.array([lib_sz-3000-(lib_sz*new_hit_f_2[procas9]),1, lib_sz*new_hit_f_2[procas9],3000])\n",
    "\n",
    "    # Run simulations over various Cm values and procas9 type\n",
    "    df_enrich_3 = round_grow_sim(procas9, df_growth, x_i0, df_enrich_3)"
   ]
  },
  {
   "cell_type": "code",
   "execution_count": null,
   "metadata": {},
   "outputs": [],
   "source": [
    "plot_lib_frac(df_enrich_3, procas9s)"
   ]
  },
  {
   "cell_type": "markdown",
   "metadata": {},
   "source": [
    "## Findings\n",
    "\n",
    "### Tightened linker provides advantages in early selection rounds\n",
    "- Tightened linker provides clear advantage in round 2\n",
    "  - the real hit is above escapes at high selection pressure\n",
    "\n",
    "### Even the worse performing system will work with enough rounds\n",
    "\n",
    "- either linker will allow full fixing of the real hit after 3 rounds of selection"
   ]
  }
 ],
 "metadata": {
  "kernelspec": {
   "display_name": "Python 3",
   "language": "python",
   "name": "python3"
  },
  "language_info": {
   "codemirror_mode": {
    "name": "ipython",
    "version": 3
   },
   "file_extension": ".py",
   "mimetype": "text/x-python",
   "name": "python",
   "nbconvert_exporter": "python",
   "pygments_lexer": "ipython3",
   "version": "3.8.8"
  }
 },
 "nbformat": 4,
 "nbformat_minor": 4
}
