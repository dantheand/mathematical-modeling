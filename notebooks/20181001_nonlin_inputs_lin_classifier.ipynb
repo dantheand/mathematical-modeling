{
 "cells": [
  {
   "cell_type": "markdown",
   "metadata": {},
   "source": [
    "# 20181001 Exploring Non-linear inputs into Linear classifier\n",
    "\n",
    "## Goal\n",
    "* explore how applying non-linear functions and adding them as new features into linear classifier can result in interesting new classification capabilities\n",
    "* prioritize biologically-replicable non-linearizations\n",
    "\n",
    "## Approach\n",
    "* Use 2D system (before additional features) for easier visualization\n",
    "* Create classification function\n",
    "* Plot classification in feature space"
   ]
  },
  {
   "cell_type": "markdown",
   "metadata": {},
   "source": [
    "## Linear Classifier Model\n",
    "\n",
    "#### Converting from weight / bias form to plottable form\n",
    "\n",
    "To plot: need to isolate a single variable (get it as a function of all other variables)\n",
    "\n",
    "#### 2D\n",
    "Line in vectorized form:\n",
    "\n",
    "$$\\bar{w} \\cdot \\bar{x} - k = 0$$\n",
    "\n",
    "#### 2D + computed features\n",
    "$\\bar{x_c}$ are computed features, and their weights: $\\bar{w_c}$:\n",
    "\n",
    "$$\\bar{w} \\cdot \\bar{x} + \\bar{w_c} \\cdot \\bar{x_c} - k = 0$$\n",
    "\n",
    "#### In plottable form\n",
    "\n",
    "$$x_1 = -\\frac{w_0}{w_1}x_0 - \\frac{\\bar{w_c} \\cdot \\bar{x_c}}{w_1} + \\frac{k}{w_1} $$"
   ]
  },
  {
   "cell_type": "markdown",
   "metadata": {},
   "source": [
    "#### If the computed feature includes $x_1$\n",
    "* then $x_1$ needs to be solved for explicitly in terms of $x_{1,c}$\n",
    "* see below for calculated inverse functions for NOT gate\n",
    "\n"
   ]
  },
  {
   "cell_type": "markdown",
   "metadata": {},
   "source": [
    "## Calculated functions\n",
    "\n",
    "### NOT function\n",
    "* output is log10 because that's whats being compared by the summation (the log transform)\n",
    "\n",
    "$$y = \\log_{10}(\\alpha \\frac{K_d}{K_d + x^n} + y_{min})$$\n",
    "\n",
    "#### Inverse function (for if the calculated feature is $x_1$)\n",
    "Start with:\n",
    "\n",
    "$$x_{1,c} = \\log_{10}(\\alpha \\frac{K_d}{K_d + x_1^n} + y_{min})$$\n",
    "\n",
    "Inverted:\n",
    "\n",
    "$$ x_1 = \\bigg( \\frac{\\alpha K_d}{10^{x_{1,c}} - y_{min}} - K_d \\bigg)^{1/n}  $$\n",
    "\n",
    "Nevermind... just use implicit function"
   ]
  },
  {
   "cell_type": "markdown",
   "metadata": {},
   "source": [
    "## Code"
   ]
  },
  {
   "cell_type": "code",
   "execution_count": null,
   "metadata": {
    "jupyter": {
     "outputs_hidden": true
    }
   },
   "outputs": [],
   "source": [
    "import numpy as np\n",
    "import matplotlib.pyplot as plt\n",
    "import seaborn as sns\n",
    "sns.set()\n",
    "import importlib\n",
    "\n",
    "import sys\n",
    "sys.path.append('./modules')\n",
    "import nonlin_inputs as nlin_h\n",
    "\n",
    "#Symbolic math libraries\n",
    "from sympy import plot_implicit, symbols, Eq\n",
    "%matplotlib notebook"
   ]
  },
  {
   "cell_type": "code",
   "execution_count": null,
   "metadata": {
    "jupyter": {
     "outputs_hidden": true
    }
   },
   "outputs": [],
   "source": [
    "%matplotlib inline"
   ]
  },
  {
   "cell_type": "code",
   "execution_count": null,
   "metadata": {
    "jupyter": {
     "outputs_hidden": true
    }
   },
   "outputs": [],
   "source": [
    "importlib.reload(nlin_h);"
   ]
  },
  {
   "cell_type": "markdown",
   "metadata": {},
   "source": [
    "### Nonlinear features with NOT functions"
   ]
  },
  {
   "cell_type": "markdown",
   "metadata": {},
   "source": [
    "Vectorized NOT function"
   ]
  },
  {
   "cell_type": "code",
   "execution_count": null,
   "metadata": {},
   "outputs": [],
   "source": [
    "# Create NOT function object\n",
    "not_fnc = nlin_h.Not_fnc(n = 3, kd = .01)\n",
    "\n",
    "x = np.logspace(-2,1,1000)\n",
    "fig, ax = plt.subplots()\n",
    "\n",
    "ax.loglog(x,not_fnc.get_output(x))\n",
    "#ax.semilogx()\n",
    "plt.show()"
   ]
  },
  {
   "cell_type": "markdown",
   "metadata": {},
   "source": [
    "#### Linear classifier without computed features"
   ]
  },
  {
   "cell_type": "code",
   "execution_count": null,
   "metadata": {},
   "outputs": [],
   "source": [
    "w_bar = np.array([0.9,2])\n",
    "bias = 1\n",
    "\n",
    "# Create lin classifier object\n",
    "lin_class = nlin_h.Lin_2d_classifier(w_bar,bias)\n",
    "\n",
    "x_range = np.linspace(0,10,100)\n",
    "\n",
    "fig, ax = plt.subplots(1,1)\n",
    "\n",
    "lin_class.plot(ax,x_range)\n",
    "\n",
    "ax.set_xlim(left = 0, right = 10)\n",
    "ax.set_ylim(bottom = 0, top = 10)\n",
    "ax.set_xlabel('x');\n",
    "ax.set_ylabel('y');"
   ]
  },
  {
   "cell_type": "markdown",
   "metadata": {},
   "source": [
    "#### Linear classifier (NOT in log space)"
   ]
  },
  {
   "cell_type": "code",
   "execution_count": null,
   "metadata": {
    "jupyter": {
     "outputs_hidden": true
    }
   },
   "outputs": [],
   "source": [
    "import sympy as sp"
   ]
  },
  {
   "cell_type": "code",
   "execution_count": null,
   "metadata": {},
   "outputs": [],
   "source": [
    "x,y = symbols('x y')\n",
    "p1 = plot_implicit(Eq(sp.log(y,10) - sp.log(x,10), sp.log(1,10)),(x,.1,10),(y,.1,10))\n",
    "ax.set_xscale('log')\n",
    "ax.set_yscale('log')"
   ]
  },
  {
   "cell_type": "markdown",
   "metadata": {},
   "source": [
    "#### Create a computed NOT feature for x1"
   ]
  },
  {
   "cell_type": "markdown",
   "metadata": {},
   "source": [
    "Computed features passed to Classifier object should be in the form of a function with one input (the x value). Pass it the not function object get_output function."
   ]
  },
  {
   "cell_type": "code",
   "execution_count": null,
   "metadata": {
    "jupyter": {
     "outputs_hidden": true
    }
   },
   "outputs": [],
   "source": [
    "importlib.reload(nlin_h);"
   ]
  },
  {
   "cell_type": "code",
   "execution_count": null,
   "metadata": {
    "jupyter": {
     "outputs_hidden": true
    }
   },
   "outputs": [],
   "source": [
    "w_bar = np.array([-.5,0.5])\n",
    "bias = 1\n",
    "not_fnc = nlin_h.Not_fnc(n = 3, kd = .01)\n",
    "\n",
    "computed_fncs = [not_fnc.get_output,not_fnc.get_output] # one for each input\n",
    "w_c = [1,0] # also one for each input\n",
    "\n",
    "lin_class = nlin_h.Lin_2d_classifier(\n",
    "    w_bar, bias, x_c_fncs = computed_fncs, w_c = w_c)"
   ]
  },
  {
   "cell_type": "code",
   "execution_count": null,
   "metadata": {},
   "outputs": [],
   "source": [
    "x_range = np.logspace(-2,2,100)\n",
    "fig, ax = plt.subplots(1,1)\n",
    "lin_class.plot(ax,x_range);\n",
    "ax.set_xlim(left = 0.01, right = 10)\n",
    "ax.set_ylim(bottom = 0.01, top = 10)\n",
    "ax.set_xscale('log')\n",
    "ax.set_yscale('log')"
   ]
  },
  {
   "cell_type": "markdown",
   "metadata": {},
   "source": [
    "### Plotting with implicit functions"
   ]
  },
  {
   "cell_type": "code",
   "execution_count": null,
   "metadata": {
    "jupyter": {
     "outputs_hidden": true
    }
   },
   "outputs": [],
   "source": [
    "importlib.reload(nlin_h);"
   ]
  },
  {
   "cell_type": "code",
   "execution_count": null,
   "metadata": {
    "jupyter": {
     "outputs_hidden": true
    }
   },
   "outputs": [],
   "source": [
    "w_bar = np.array([-0.5,.6])\n",
    "bias = 0.2\n",
    "not_fnc = nlin_h.Not_fnc(n = 3, kd=0.1)\n",
    "\n",
    "computed_fncs = [not_fnc.get_output,not_fnc.get_output] # one for each input\n",
    "w_c = [-1.5,1.5] # also one for each input\n",
    "\n",
    "lin_class = nlin_h.Lin_2d_classifier(\n",
    "    w_bar, bias, x_c_fncs = computed_fncs, w_c = w_c)"
   ]
  },
  {
   "cell_type": "code",
   "execution_count": null,
   "metadata": {},
   "outputs": [],
   "source": [
    "x_range = [0.01,10]\n",
    "y_range = [0.01,10]\n",
    "\n",
    "params = {'title': 'Non-log'}\n",
    "lin_class.plot_imp(ax,x_range,y_range, plt_type = 'area', param_dict = params);\n",
    "\n",
    "# plot log-log\n",
    "params = {'xscale': 'log', 'yscale': 'log', 'title': 'Log-log'}\n",
    "lin_class.plot_imp(ax,x_range,y_range, plt_type = 'area', param_dict = params);"
   ]
  },
  {
   "cell_type": "markdown",
   "metadata": {},
   "source": [
    "## Computationally \"plastic\" circuits\n",
    "\n",
    "Goal:\n",
    "* look at how having components that are modifiable in vivo will change the computation\n",
    "\n",
    "Parameters to look at:\n",
    "* bias is probably the easiest to modify in vivo"
   ]
  },
  {
   "cell_type": "markdown",
   "metadata": {},
   "source": [
    "### Modifying Bias\n",
    "* fix weights / NOT gate selections and NOT gate weights\n",
    "* change bias value"
   ]
  },
  {
   "cell_type": "code",
   "execution_count": null,
   "metadata": {},
   "outputs": [],
   "source": [
    "importlib.reload(nlin_h);"
   ]
  },
  {
   "cell_type": "markdown",
   "metadata": {},
   "source": [
    "#### Linear inputs"
   ]
  },
  {
   "cell_type": "code",
   "execution_count": null,
   "metadata": {
    "jupyter": {
     "outputs_hidden": true
    }
   },
   "outputs": [],
   "source": [
    "# Make classifiers\n",
    "biases = np.linspace(1,5,10)\n",
    "w_bar = np.array([-.5,0.5])\n",
    "\n",
    "classifiers = []\n",
    "\n",
    "for bias in biases:\n",
    "    lin_class = nlin_h.Lin_2d_classifier(w_bar,bias)\n",
    "    classifiers.append(lin_class)"
   ]
  },
  {
   "cell_type": "code",
   "execution_count": null,
   "metadata": {},
   "outputs": [],
   "source": [
    "# Plot them\n",
    "fig, axes = plt.subplots(len(biases),1,figsize =(4,20))\n",
    "\n",
    "x_range = np.linspace(0,10,100)\n",
    "\n",
    "i = 0\n",
    "for classifier in classifiers:\n",
    "    ax = axes[i]\n",
    "    classifier.plot(ax,x_range)\n",
    "    ax.set_xlim(0,10)\n",
    "    ax.set_ylim(0,10)\n",
    "    i = i + 1"
   ]
  },
  {
   "cell_type": "markdown",
   "metadata": {},
   "source": [
    "#### Non-linear inputs"
   ]
  },
  {
   "cell_type": "code",
   "execution_count": null,
   "metadata": {
    "code_folding": []
   },
   "outputs": [],
   "source": [
    "# Create logspaced bias range\n",
    "biases = np.logspace(-2,1,10)\n",
    "\n",
    "# Set parameters that will be shared for all classifier variants\n",
    "w_bar = np.array([-.5,0.5])\n",
    "not_fnc = nlin_h.Not_fnc(n = 3, kd=0.1)\n",
    "computed_fncs = [not_fnc.get_output,not_fnc.get_output] # one for each input\n",
    "w_c = [-1.5,1.5] # also one for each input\n",
    "\n",
    "# Create empty classifer list to store classifier objects\n",
    "classifiers = []\n",
    "\n",
    "# Create a unique classifier object for each bias value\n",
    "for bias in biases:\n",
    "    classifier = nlin_h.Lin_2d_classifier(w_bar, bias, x_c_fncs = computed_fncs, w_c = w_c)\n",
    "    classifiers.append(classifier)"
   ]
  },
  {
   "cell_type": "code",
   "execution_count": null,
   "metadata": {
    "code_folding": []
   },
   "outputs": [],
   "source": [
    "# Plot them all\n",
    "x_range = [0.01,10]\n",
    "y_range = [0.01,10]\n",
    "\n",
    "# Add plots to a list\n",
    "plot_list = []\n",
    "\n",
    "for classifier in classifiers:\n",
    "    params = {'title': 'Bias = {:.3f}'.format(classifier.bias)}\n",
    "    a_plot = classifier.plot_imp(ax,x_range,y_range, plt_type = 'area', param_dict = params);\n",
    "    plot_list.append(a_plot);\n"
   ]
  },
  {
   "cell_type": "markdown",
   "metadata": {},
   "source": [
    "### Results\n",
    "* modifying bias can change the classifier circuit in interesting ways"
   ]
  },
  {
   "cell_type": "code",
   "execution_count": null,
   "metadata": {
    "jupyter": {
     "outputs_hidden": true
    }
   },
   "outputs": [],
   "source": []
  }
 ],
 "metadata": {
  "kernelspec": {
   "display_name": "Python 3",
   "language": "python",
   "name": "python3"
  },
  "language_info": {
   "codemirror_mode": {
    "name": "ipython",
    "version": 3
   },
   "file_extension": ".py",
   "mimetype": "text/x-python",
   "name": "python",
   "nbconvert_exporter": "python",
   "pygments_lexer": "ipython3",
   "version": "3.6.7"
  }
 },
 "nbformat": 4,
 "nbformat_minor": 4
}
