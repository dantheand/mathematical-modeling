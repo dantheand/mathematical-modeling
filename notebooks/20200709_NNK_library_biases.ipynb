{
 "cells": [
  {
   "cell_type": "markdown",
   "metadata": {},
   "source": [
    "## NNK library bias calculation\n",
    "\n",
    "### Problem definition\n",
    "Given an NNK codon, what's the probability its each of the amino acids"
   ]
  },
  {
   "cell_type": "code",
   "execution_count": null,
   "metadata": {},
   "outputs": [],
   "source": [
    "from Bio.Seq import Seq\n",
    "import pandas as pd\n",
    "import numpy as np\n",
    "import seaborn as sns\n",
    "import matplotlib.pyplot as plt\n",
    "import matplotlib"
   ]
  },
  {
   "cell_type": "code",
   "execution_count": null,
   "metadata": {},
   "outputs": [],
   "source": [
    "matplotlib.rc('figure', dpi = 125)"
   ]
  },
  {
   "cell_type": "code",
   "execution_count": null,
   "metadata": {},
   "outputs": [],
   "source": [
    "n_nucleotide = ['A','T','G','C']\n",
    "k_nucleotide = ['G', 'T']\n",
    "s_nucleotide = ['G', 'C']\n",
    "\n",
    "nnk_list = []\n",
    "for n1 in n_nucleotide:\n",
    "    for n2 in n_nucleotide:\n",
    "        for k in k_nucleotide:\n",
    "            nnk_list.append(n1 + n2 + k)\n",
    "\n",
    "nns_list =  []\n",
    "for n1 in n_nucleotide:\n",
    "    for n2 in n_nucleotide:\n",
    "        for s in s_nucleotide:\n",
    "            nns_list.append(n1 + n2 + s)\n",
    "            \n",
    "df_nnk = pd.DataFrame({'codon': nnk_list})\n",
    "df_nns = pd.DataFrame({'codon': nns_list})"
   ]
  },
  {
   "cell_type": "code",
   "execution_count": null,
   "metadata": {},
   "outputs": [],
   "source": [
    "df_nnk['aa'] = df_nnk['codon'].apply(lambda x: str(Seq(x).translate()))\n",
    "df_nns['aa'] = df_nns['codon'].apply(lambda x: str(Seq(x).translate()))"
   ]
  },
  {
   "cell_type": "code",
   "execution_count": null,
   "metadata": {},
   "outputs": [],
   "source": [
    "nnk_codon_freq = (df_nnk.groupby(['aa']).agg('count') / df_nnk.shape[0]).reset_index().rename(columns = {'codon': 'freq'})\n",
    "nnk_codon_freq = nnk_codon_freq.sort_values(by= 'freq')\n",
    "\n",
    "nns_codon_freq = (df_nns.groupby(['aa']).agg('count') / df_nns.shape[0]).reset_index().rename(columns = {'codon': 'freq'})\n",
    "nns_codon_freq = nns_codon_freq.sort_values(by= 'freq')"
   ]
  },
  {
   "cell_type": "code",
   "execution_count": null,
   "metadata": {},
   "outputs": [],
   "source": [
    "fig, axs = plt.subplots(nrows = 2, figsize = (4,6))\n",
    "plt.tight_layout(pad = 2)\n",
    "\n",
    "for ax,df,title in zip(axs, [nns_codon_freq, nnk_codon_freq], ['NNS', 'NNK']):\n",
    "\n",
    "    sns.barplot(data = df, x = 'aa', y = 'freq', ax = ax,\n",
    "               palette= 'Blues_d')\n",
    "\n",
    "    ax.set_ylim(0,0.1)\n",
    "    ax.set_ylabel('Frequency')\n",
    "    ax.set_xlabel('')\n",
    "    ax.set_title(title)\n",
    "\n",
    "plt.show()"
   ]
  },
  {
   "cell_type": "code",
   "execution_count": null,
   "metadata": {},
   "outputs": [],
   "source": [
    "nnk_codon_freq"
   ]
  },
  {
   "cell_type": "code",
   "execution_count": null,
   "metadata": {},
   "outputs": [],
   "source": []
  }
 ],
 "metadata": {
  "kernelspec": {
   "display_name": "Python 3",
   "language": "python",
   "name": "python3"
  },
  "language_info": {
   "codemirror_mode": {
    "name": "ipython",
    "version": 3
   },
   "file_extension": ".py",
   "mimetype": "text/x-python",
   "name": "python",
   "nbconvert_exporter": "python",
   "pygments_lexer": "ipython3",
   "version": "3.8.8"
  }
 },
 "nbformat": 4,
 "nbformat_minor": 4
}
