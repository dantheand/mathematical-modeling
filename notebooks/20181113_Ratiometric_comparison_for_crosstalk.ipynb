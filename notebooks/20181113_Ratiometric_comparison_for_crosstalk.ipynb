{
 "cells": [
  {
   "cell_type": "markdown",
   "metadata": {},
   "source": [
    "# 20181113 Ratiometric comparisons to resolve cross-talking signals\n",
    "\n",
    "## Goal\n",
    "* develop theory and figures to show that ratiometric comparison of pairs of cross-talking sensors can be used to resolve which chemical signal is present\n",
    "* hope to find a large concentration-invariant regime\n",
    "* Largely inspired by: 10.1093/protein/gzi069\n",
    "\n",
    "### System\n",
    "* 3 separate chemical ligands that differentially activate receptors\n",
    "* 2 receptors (sensors) with differential activation\n",
    "* each signal is presented individually to the system\n",
    "\n",
    "## Approach\n",
    "* simulate inducer-dependent sensor response with activating Hill functions\n",
    "* 6 different Hill functions (2 for each inducer, one for each receptor)\n",
    "* look at ratios of sensor activation over full induction range with each\n",
    "\n",
    "## Questions / things to think about\n",
    "* what kind of system would be needed to constructed to test for multiple, simultaneous ligand types\n",
    "    * might be good to look at the follow up paper: https://doi.org/10.1371/journal.pcbi.1002224\n",
    "* what do the activation functions of cross-talking receptors usually look like\n",
    "    * Adam says they usually have different KD values\n",
    "    \n",
    "## Example cross-talk from Adam's QS systems\n",
    "* Plots along the diagonal line are cognate activator:promoter pairs.  \n",
    "* other plots are non-cognate promoters.  Any non-flat transfer functions in those plots represent promoter cross reactivity.\n",
    "* each different color of transfer function is for a different ligand.  \n",
    "* two non-flat transfer functions in the same plot represent chemical cross-reactivity\n",
    "<img src=\"QS_crosstalk.png\">"
   ]
  },
  {
   "cell_type": "code",
   "execution_count": null,
   "metadata": {},
   "outputs": [],
   "source": [
    "import numpy as np\n",
    "import matplotlib.pyplot as plt\n",
    "import seaborn as sns\n",
    "sns.set_style('ticks')\n",
    "sns.set_context('poster')"
   ]
  },
  {
   "cell_type": "code",
   "execution_count": null,
   "metadata": {},
   "outputs": [],
   "source": [
    "from IPython.core.debugger import set_trace"
   ]
  },
  {
   "cell_type": "code",
   "execution_count": null,
   "metadata": {},
   "outputs": [],
   "source": [
    "# Create Hill function, function; takes vector of inputs, returns vector of outputs\n",
    "def hill(x_vals, y_min = 0.005, y_max = 1, kd = 1, n = 2):\n",
    "    outputs = []\n",
    "    for x in x_vals:\n",
    "        out =  y_min+((y_max-y_min)/(1+(kd/x)**n))\n",
    "        outputs.append(out)\n",
    "    return np.array(outputs)"
   ]
  },
  {
   "cell_type": "markdown",
   "metadata": {},
   "source": [
    "## Plotting examples"
   ]
  },
  {
   "cell_type": "code",
   "execution_count": null,
   "metadata": {
    "code_folding": [
     0
    ]
   },
   "outputs": [],
   "source": [
    "# Practice plotting one hill function\n",
    "xs = np.logspace(-2,1,100)\n",
    "ys = hill(xs)\n",
    "\n",
    "fig, ax = plt.subplots()\n",
    "ax.plot(xs,ys)\n",
    "ax.set_xscale('log')\n",
    "ax.set_yscale('log')\n",
    "plt.show()"
   ]
  },
  {
   "cell_type": "code",
   "execution_count": null,
   "metadata": {
    "code_folding": [
     0
    ]
   },
   "outputs": [],
   "source": [
    "# Plot two with just different ymaxes\n",
    "xs = np.logspace(-2,1,100)\n",
    "y1s = hill(xs)\n",
    "y2s = hill(xs, y_max = 0.1)\n",
    "\n",
    "fig, ax = plt.subplots()\n",
    "ax.plot(xs,y1s)\n",
    "ax.plot(xs,y2s)\n",
    "ax.set_xscale('log')\n",
    "ax.set_yscale('log')\n",
    "plt.show()"
   ]
  },
  {
   "cell_type": "code",
   "execution_count": null,
   "metadata": {
    "code_folding": []
   },
   "outputs": [],
   "source": [
    "# Plot two with different kds and ymaxs\n",
    "xs = np.logspace(-2,1,100)\n",
    "y1s = hill(xs)\n",
    "y2s = hill(xs, kd = 5, y_max = 0.1)\n",
    "\n",
    "fig, ax = plt.subplots()\n",
    "ax.plot(xs,y1s)\n",
    "ax.plot(xs,y2s)\n",
    "ax.set_xscale('log')\n",
    "ax.set_yscale('log')\n",
    "plt.show()"
   ]
  },
  {
   "cell_type": "markdown",
   "metadata": {},
   "source": [
    "### Results\n",
    "* at least 10-fold separation from inputs of $10^{-1}$ and up\n",
    "* this does NOT yeild new information since we could just look at P2 and see that we get more than 10-fold separation if input is more than $10^{-1}$"
   ]
  },
  {
   "cell_type": "markdown",
   "metadata": {},
   "source": [
    "# Piping through simulated ratiometric circuit"
   ]
  },
  {
   "cell_type": "markdown",
   "metadata": {},
   "source": [
    "Define the ratiometric circuit calculator function"
   ]
  },
  {
   "cell_type": "code",
   "execution_count": null,
   "metadata": {
    "code_folding": []
   },
   "outputs": [],
   "source": [
    "def ratio_circ(inputs_1, inputs_2, kd_kr_ratio = 1, n =0.7):\n",
    "    \n",
    "    kr = 0.001/30/(2.9*10**(-3))\n",
    "    kd = kd_kr_ratio*kr\n",
    "    scale = 4\n",
    "    \n",
    "    pairs = list(zip(inputs_1,inputs_2))\n",
    "    \n",
    "    output = []\n",
    "    for pair in pairs:\n",
    "        out = scale*(1/(1+pair[0]**n/kd + pair[1]**n/kr) + 1/(1+kd/pair[0]**n + pair[1]**n*kd/(pair[0]**n*kr)))\n",
    "        output.append(out)\n",
    "    return np.array(output)"
   ]
  },
  {
   "cell_type": "code",
   "execution_count": null,
   "metadata": {},
   "outputs": [],
   "source": [
    "# Makes pairs of inputs from sets\n",
    "def pair_maker(inputs_1,inputs_2):\n",
    "    pairs = []\n",
    "    for i in inputs_1:\n",
    "        for j in inputs_2:\n",
    "            pairs.append((i,j))\n",
    "    return pairs\n",
    "\n",
    "inputs = np.logspace(-2,1,50)*100\n",
    "pairs = np.array(pair_maker(inputs,inputs))\n",
    "real_ratios = pairs[:,0]/pairs[:,1]\n",
    "\n",
    "outputs_same_k = ratio_circ(pairs[:,0],pairs[:,1], kd_kr_ratio=1)\n",
    "outputs_high_k = ratio_circ(pairs[:,0],pairs[:,1], kd_kr_ratio=10)\n",
    "outputs_v_high_k = ratio_circ(pairs[:,0],pairs[:,1], kd_kr_ratio=100)"
   ]
  },
  {
   "cell_type": "code",
   "execution_count": null,
   "metadata": {},
   "outputs": [],
   "source": [
    "fig, ax = plt.subplots(1,3,sharey=True)\n",
    "\n",
    "ax[0].scatter(real_ratios,outputs_same_k,s =20)\n",
    "ax[0].set_title('Kd = Kr')\n",
    "\n",
    "ax[1].scatter(real_ratios,outputs_high_k,s =20)\n",
    "ax[1].set_title('Kd = 10*Kr')\n",
    "\n",
    "ax[2].scatter(real_ratios,outputs_v_high_k,s =20)\n",
    "ax[2].set_title('Kd = 100*Kr')\n",
    "\n",
    "for i in range(3):\n",
    "    ax[i].set_xscale('log')\n",
    "    ax[i].set_yscale('log')\n",
    "    ax[i].set_xlim([0.0001,1000])\n",
    "    ax[i].set_ylim([0.001,10])\n",
    "    ax[i].set_xlabel('Real ratio input')\n",
    "\n",
    "fig.set_size_inches(15,5)"
   ]
  },
  {
   "cell_type": "markdown",
   "metadata": {},
   "source": [
    "## 2-input 2-promoter analysis"
   ]
  },
  {
   "cell_type": "markdown",
   "metadata": {},
   "source": [
    "Goal:\n",
    "* find a set 4 transfer functions for 2 promoters (2 for each promoter) that requires ratiometric deconvolution to derive inducer identity\n",
    "\n",
    "Conditions for success:\n",
    "* (1) less than 10-fold separation between outputs for 2 different inducers in a given input range for a single promoter\n",
    "    * this sets up the necessity for some other type of signal processing than looking at a single promoter\n",
    "    * how to ensure this:\n",
    "        * make sure 2 transfer function y_max's for a given promoter is not greater than 10\n",
    "* (2) >10-fold separation between inducers for a range of inputs with ratiometric deconvolution\n",
    "    * this shows that ratiometric deconvolution is a signal processing solution for the above problem\n",
    "    \n"
   ]
  },
  {
   "cell_type": "code",
   "execution_count": null,
   "metadata": {
    "code_folding": [
     1
    ]
   },
   "outputs": [],
   "source": [
    "# Calculates fold difference and ensures its positive by always dividing larger number by smaller number\n",
    "def pos_fold_calc(a_out,b_out):\n",
    "    a_out = np.array(a_out)\n",
    "    b_out = np.array(b_out)\n",
    "    calc_out = np.zeros(a_out.shape)\n",
    "    \n",
    "    # Figure out terms of a that are greater than b\n",
    "    a_gt_b = np.greater(a_out,b_out)\n",
    "    \n",
    "    i = 0\n",
    "    for i in range(0,calc_out.shape[0]):\n",
    "        # if a > b for that component. divide a/b; otherwise, divide b/a\n",
    "        if a_gt_b[i]:\n",
    "            calc_out[i] = a_out[i] / b_out[i]\n",
    "        else:\n",
    "            calc_out[i] = b_out[i] / a_out[i]\n",
    "        i = i + 1\n",
    "    return calc_out"
   ]
  },
  {
   "cell_type": "code",
   "execution_count": null,
   "metadata": {
    "code_folding": []
   },
   "outputs": [],
   "source": [
    "def plt_2p_2in(xs, hill_fn_dict):\n",
    "    # Promoter 1 response\n",
    "    # Inducer A\n",
    "    p1a = hill_fn_dict['P1'][0]\n",
    "    # Inducer B\n",
    "    p1b = hill_fn_dict['P1'][1]\n",
    "\n",
    "    # Promoter 2 response\n",
    "    # Inducer a\n",
    "    p2a = hill_fn_dict['P2'][0]\n",
    "    # Inducer b\n",
    "    p2b = hill_fn_dict['P2'][1]\n",
    "\n",
    "    # Calculating real ratios\n",
    "    p1p2ratios = {'A': [], 'B': []}\n",
    "    p2p1ratios = {'A': [], 'B': []}\n",
    "\n",
    "    p1p2ratios['A'] = p1a/p2a\n",
    "    p2p1ratios['A'] = p2a/p1a\n",
    "    p1p2ratios['B'] = p1b/p2b\n",
    "    p2p1ratios['B'] = p2b/p1b\n",
    "    \n",
    "    # Calculate results through simulated ratiometric circuit w/ high and low ratio capabilities\n",
    "    p1p2ratios_low = {'A': [], 'B': []}\n",
    "    p2p1ratios_low = {'A': [], 'B': []}\n",
    "    \n",
    "    p1p2ratios_high = {'A': [], 'B': []}\n",
    "    p2p1ratios_high = {'A': [], 'B': []}\n",
    "    \n",
    "        # Calculate for low ratio circuit\n",
    "    p1p2ratios_low['A'] = ratio_circ(p1a,p2a)\n",
    "    p1p2ratios_low['B'] = ratio_circ(p1b,p2b)\n",
    "    p2p1ratios_low['A'] = ratio_circ(p2a,p1a)\n",
    "    p2p1ratios_low['B'] = ratio_circ(p2b,p1b)\n",
    "    \n",
    "        # Calculate for high ratio circuit    \n",
    "    p1p2ratios_high['A'] = ratio_circ(p1a,p2a, kd_kr_ratio=10)\n",
    "    p1p2ratios_high['B'] = ratio_circ(p1b,p2b, kd_kr_ratio=10)\n",
    "    p2p1ratios_high['A'] = ratio_circ(p2a,p1a, kd_kr_ratio=10)\n",
    "    p2p1ratios_high['B'] = ratio_circ(p2b,p1b, kd_kr_ratio=10)\n",
    "    \n",
    "    # Fold difference calculations\n",
    "    # Calculate separation with just single promoters\n",
    "    p1fold = pos_fold_calc(p1a,p1b)\n",
    "    p2fold = pos_fold_calc(p2a,p2b)\n",
    "    \n",
    "    # Calculate fold-separation between different inducers for ratiometric systems\n",
    "    ratiofold = pos_fold_calc(p1p2ratios['A'],p1p2ratios['B'])\n",
    "    ratiofold_low = pos_fold_calc(p1p2ratios_low['A'],p1p2ratios_low['B'])\n",
    "    ratiofold_high = pos_fold_calc(p1p2ratios_high['A'],p1p2ratios_high['B'])\n",
    "        \n",
    "    # Plotting\n",
    "    # Plot it all\n",
    "    fig, axes = plt.subplots(5,2,sharey=False, sharex = False)\n",
    "\n",
    "    #p1\n",
    "    axes[0,0].plot(xs,p1a,color = \"#984ea3\", linewidth=5)\n",
    "    axes[0,0].plot(xs,p1b, color=\"#377eb8\",linewidth=5)\n",
    "    axes[0,0].set_ylim([0.005,5])\n",
    "    axes[0,0].set_title('P1')\n",
    "\n",
    "    #p2\n",
    "    axes[0,1].plot(xs,p2a,color = \"#984ea3\", linewidth=5)\n",
    "    axes[0,1].plot(xs,p2b,color=\"#377eb8\",linewidth=5)\n",
    "    axes[0,1].set_ylim([0.005,5])\n",
    "    axes[0,1].set_title('P2')\n",
    "\n",
    "    #p1/p2\n",
    "    axes[1,0].plot(xs,p1p2ratios['A'],color = \"#984ea3\", linewidth=5)\n",
    "    axes[1,0].plot(xs,p1p2ratios['B'],color=\"#377eb8\",linewidth=5)\n",
    "    axes[1,0].set_ylim([0.01,100])\n",
    "    axes[1,0].set_ylabel('Real Ratio')\n",
    "    axes[1,0].set_title('P1/P2')\n",
    "\n",
    "    #p2/p1\n",
    "    axes[1,1].plot(xs,p2p1ratios['A'],color = \"#984ea3\", linewidth=5)\n",
    "    axes[1,1].plot(xs,p2p1ratios['B'],color=\"#377eb8\",linewidth=5)\n",
    "    axes[1,1].set_ylim([0.01,100])\n",
    "    axes[1,1].set_ylabel('Real Ratio')\n",
    "    axes[1,1].set_title('P2/P1')\n",
    "    \n",
    "    #p1/p2 low ratio\n",
    "    axes[2,0].plot(xs,p1p2ratios_low['A'],color = \"#984ea3\", linewidth=5)\n",
    "    axes[2,0].plot(xs,p1p2ratios_low['B'],color=\"#377eb8\",linewidth=5)\n",
    "    axes[2,0].set_ylim([0.01,100])\n",
    "    axes[2,0].set_ylabel('Ratiometric circuit output')\n",
    "    axes[2,0].set_title('P2/P1, low ratio')\n",
    "    \n",
    "    #p2/p1 low ratio\n",
    "    \n",
    "    axes[2,1].plot(xs,p2p1ratios_low['A'],color = \"#984ea3\", linewidth=5)\n",
    "    axes[2,1].plot(xs,p2p1ratios_low['B'],color=\"#377eb8\",linewidth=5)\n",
    "    axes[2,1].set_ylim([0.01,100])\n",
    "    axes[2,1].set_ylabel('Ratiometric circuit output')\n",
    "    axes[2,1].set_title('P2/P1, low ratio')\n",
    "    \n",
    "    #p1/p2 high ratio\n",
    "    \n",
    "    axes[3,0].plot(xs,p1p2ratios_high['A'],color = \"#984ea3\", linewidth=5)\n",
    "    axes[3,0].plot(xs,p1p2ratios_high['B'],color=\"#377eb8\",linewidth=5)\n",
    "    axes[3,0].set_ylim([0.01,100])\n",
    "    axes[3,0].set_ylabel('Ratiometric circuit output')\n",
    "    axes[3,0].set_title('P2/P1, high ratio')\n",
    "    \n",
    "    #p2/p1 high ratio\n",
    "    \n",
    "    axes[3,1].plot(xs,p2p1ratios_low['A'],color = \"#984ea3\", linewidth=5)\n",
    "    axes[3,1].plot(xs,p2p1ratios_low['B'],color=\"#377eb8\",linewidth=5)\n",
    "    axes[3,1].set_ylim([0.01,100])\n",
    "    axes[3,1].set_ylabel('Ratiometric circuit output')\n",
    "    axes[3,1].set_title('P2/P1, high ratio')\n",
    "    \n",
    "    # fold differences for p1 only, p2 only, and real ratios\n",
    "    axes[4,0].plot(xs,p1fold, color='#984ea3', linewidth = 5)\n",
    "    axes[4,0].plot(xs,p2fold, color='#377eb8', linewidth = 5)\n",
    "    axes[4,0].plot(xs,ratiofold, color='#000000', linewidth = 5)\n",
    "    axes[4,0].legend(['P1 only', 'P2 only', 'Ratio'])\n",
    "    axes[4,0].set_yscale('log')\n",
    "    axes[4,0].set_xscale('log')\n",
    "    axes[4,0].set_xlabel('Input')\n",
    "    axes[4,0].set_ylabel('Fold-difference')\n",
    "    axes[4,0].set_title('Fold separation w/ ideal ratio')\n",
    "    \n",
    "    # fold differences for p1 only, p2 only, and ratios through circuit\n",
    "    axes[4,1].plot(xs,p1fold, color='#984ea3', linewidth = 5)\n",
    "    axes[4,1].plot(xs,p2fold, color='#377eb8', linewidth = 5)\n",
    "    axes[4,1].plot(xs,ratiofold_low, color='#000000', linewidth = 5)\n",
    "    axes[4,1].plot(xs,ratiofold_high, color='#C4C4C4', linewidth = 5)\n",
    "    axes[4,1].legend(['P1 only', 'P2 only', 'Ratio circ (low)', 'Ratio circ (high)'])\n",
    "    axes[4,1].set_yscale('log')\n",
    "    axes[4,1].set_xscale('log')\n",
    "    axes[4,1].set_xlabel('Input')\n",
    "    axes[4,1].set_ylabel('Fold-difference')\n",
    "    axes[4,1].set_title('Fold separation w/ real circuit')\n",
    "    \n",
    "\n",
    "    for i in [0,1,2,3]:\n",
    "        for j in [0,1]:\n",
    "            axes[i,j].set_xscale('log')\n",
    "            axes[i,j].set_yscale('log')\n",
    "            axes[i,j].set_xlabel('Input')\n",
    "            if i != 1:\n",
    "                axes[i,j].set_ylabel('Output')\n",
    "            axes[i,j].legend(['A','B'])\n",
    "\n",
    "    sns.despine()\n",
    "\n",
    "    fig.set_size_inches(15,25)\n",
    "    fig.tight_layout()\n",
    "    fig.subplots_adjust(hspace = 1)"
   ]
  },
  {
   "cell_type": "code",
   "execution_count": null,
   "metadata": {},
   "outputs": [],
   "source": [
    "# Inducer A, then Inducer B for each promoter\n",
    "xs = np.logspace(-2,1,100)\n",
    "hill_fx = {\n",
    "    'P1':[hill(xs, y_max = 0.1), hill(xs, kd = 5, y_max = 0.1)],\n",
    "    'P2':[hill(xs, kd = 0.2, n = 4), hill(xs, kd = 2, y_max = 0.05)]\n",
    "}\n",
    "\n",
    "plt_2p_2in(xs,hill_fx)"
   ]
  },
  {
   "cell_type": "markdown",
   "metadata": {},
   "source": [
    "### Results\n",
    "* Resolving: at least 10-fold separation from inputs of $10^{-1}$ and up\n",
    "* this does NOT yield new information since we could just look at P2 and see that we get more than 10-fold separation if input is more than $10^{-1}$\n",
    "* Issue:\n",
    "    * P2 transfer functions have 10-fold separation from inputs of $2 * 10^{-1}$ and up"
   ]
  },
  {
   "cell_type": "code",
   "execution_count": null,
   "metadata": {},
   "outputs": [],
   "source": [
    "hill_fx = {\n",
    "    'P1':[hill(xs, y_max = 0.05,kd = 5), hill(xs,  y_max = 0.1, kd=1)],\n",
    "    'P2':[hill(xs, kd = 1, y_max = 0.2), hill(xs, kd = 5, y_max = 0.1)]\n",
    "}\n",
    "\n",
    "plt_2p_2in(xs,hill_fx)"
   ]
  },
  {
   "cell_type": "markdown",
   "metadata": {},
   "source": [
    "### Results\n",
    "* ratiometric circuit results in better separation than either fold-separation alone\n",
    "\n",
    "These transfer functions are nearly identical to CinR and LasR promoters being induced by each others ligands\n",
    "\n",
    "<img src=\"cin_las_crosstalk.png\">"
   ]
  },
  {
   "cell_type": "markdown",
   "metadata": {},
   "source": [
    "## CinR / LasRQ simulation\n",
    "* attempt to simulate the transfer functions for CinR / LasRQ promoters from Adam's data\n",
    "* P1 = CinR promoter\n",
    "* P2 = LasRQ promoter\n",
    "* Inducer A = CinR ligand\n",
    "* Inducer B = LasRQ ligand"
   ]
  },
  {
   "cell_type": "code",
   "execution_count": null,
   "metadata": {
    "code_folding": []
   },
   "outputs": [],
   "source": [
    "# Inducer A, then Inducer B for each promoter\n",
    "xs = np.logspace(-7,0,100)\n",
    "hill_fx = {\n",
    "    'P1':[hill(xs, y_min = 0.02, y_max = 2, kd = 2*10**(-5), n = 2), \n",
    "          hill(xs, y_min = 0.01, y_max = 1, kd = 4*10**(-2), n = 2)],\n",
    "    'P2':[hill(xs, y_min = 0.03, y_max = 1, kd = 9*10**(-2), n = 1), \n",
    "          hill(xs, y_min = 0.03, y_max = 2, kd = 7*10**(-4), n = 1)]\n",
    "}\n",
    "\n",
    "plt_2p_2in(xs,hill_fx)"
   ]
  },
  {
   "cell_type": "markdown",
   "metadata": {},
   "source": [
    "## Results\n",
    "* Looks like theres a really good range here from ~ $10^{-5}$ -> $10^{-1}$ where the ratio gives a distinct advantage over P1 and P2 alone\n",
    "* might not be as big of an advantage if ratio can't be far above 1"
   ]
  },
  {
   "cell_type": "markdown",
   "metadata": {},
   "source": [
    "# Resolving 2 signals w/ 1 cross-talking signal"
   ]
  },
  {
   "cell_type": "code",
   "execution_count": null,
   "metadata": {},
   "outputs": [],
   "source": [
    "# Inducer A, then Inducer B for each promoter\n",
    "xs = np.logspace(-7,0,100)\n",
    "hill_fx = {\n",
    "    'P1':[hill(xs, y_min = 0.02, y_max = 2, kd = 2*10**(-3), n = 2), \n",
    "          hill(xs, y_min = 0.02, y_max = 0.02, kd = 4*10**(-2), n = 2)],\n",
    "    'P2':[hill(xs, y_min = 0.03, y_max = 0.5, kd = 9*10**(-2), n = 1), \n",
    "          hill(xs, y_min = 0.03, y_max = 1, kd = 7*10**(-4), n = 1)]\n",
    "}\n",
    "\n",
    "plt_2p_2in(xs,hill_fx)"
   ]
  },
  {
   "cell_type": "markdown",
   "metadata": {},
   "source": [
    "## Results\n",
    "* could work but if only one input is present at a time (A or B)\n",
    "* doesn't work to deconvolve signals if both are present at the same time"
   ]
  },
  {
   "cell_type": "markdown",
   "metadata": {},
   "source": [
    "## Ratiometric comparison with different Kd values and y_max (3 inputs)\n",
    "\n",
    "Situation that Adam said was most common for the AHLs"
   ]
  },
  {
   "cell_type": "code",
   "execution_count": null,
   "metadata": {
    "code_folding": []
   },
   "outputs": [],
   "source": [
    "# Set output values for all inducers\n",
    "\n",
    "# x values for all inducers\n",
    "xs = np.logspace(-2,1,100)\n",
    "\n",
    "# inducer output values for each sensor, indcuer name key-valued lists\n",
    "outs_s1 = {'A': [], 'B': [], 'C': []}\n",
    "outs_s2 = {'A': [], 'B': [], 'C': []}\n",
    "\n",
    "# set sensor 1 values\n",
    "# A is default\n",
    "outs_s1['A'] = hill(xs)\n",
    "# B has shifted KD and lower ymax\n",
    "outs_s1['B'] = hill(xs, kd = 5, y_max = 0.1)\n",
    "# C has same KD as B, but lower ymax\n",
    "outs_s1['C'] = hill(xs, kd = 5, y_max = 0.05)\n",
    "\n",
    "# set sensor 2 values\n",
    "# A is higher KD and shifted down\n",
    "outs_s2['A'] = hill(xs, kd = 2, y_max = 0.05)\n",
    "# B is default\n",
    "outs_s2['B'] = hill(xs)\n",
    "# C has same KD as A, but lower ymax\n",
    "outs_s2['C'] = hill(xs, kd = 2, y_max = 0.02)"
   ]
  },
  {
   "cell_type": "markdown",
   "metadata": {},
   "source": [
    "Inducer transfer functions"
   ]
  },
  {
   "cell_type": "code",
   "execution_count": null,
   "metadata": {
    "code_folding": []
   },
   "outputs": [],
   "source": [
    "# Plot the inducer transfer functions\n",
    "fig, axes = plt.subplots(1,2)\n",
    "\n",
    "axes[0].plot(xs,outs_s1['A'],color = \"#377eb8\", linewidth=5)\n",
    "axes[0].plot(xs,outs_s1['B'],color=\"#e41a1c\",linewidth=5)\n",
    "axes[0].plot(xs,outs_s1['C'],color=\"#4daf4a\",linewidth=5)\n",
    "\n",
    "axes[0].set_xscale('log')\n",
    "axes[0].set_yscale('log')\n",
    "\n",
    "axes[1].plot(xs,outs_s2['A'],color = \"#377eb8\", linewidth=5)\n",
    "axes[1].plot(xs,outs_s2['B'],color=\"#e41a1c\",linewidth=5)\n",
    "axes[1].plot(xs,outs_s2['C'],color=\"#4daf4a\",linewidth=5)\n",
    "\n",
    "    \n",
    "axes[1].set_xscale('log')\n",
    "axes[1].set_yscale('log')\n",
    "\n",
    "sns.despine()\n",
    "\n",
    "fig.set_size_inches(12,5)\n",
    "plt.show()"
   ]
  },
  {
   "cell_type": "markdown",
   "metadata": {},
   "source": [
    "## Ratiometric comparison"
   ]
  },
  {
   "cell_type": "code",
   "execution_count": null,
   "metadata": {},
   "outputs": [],
   "source": [
    "# Calculate ratios over range of input inducer concentrations; Calculate sensor1/sensor2\n",
    "\n",
    "ratios = {'A': [], 'B': [], 'C': []}\n",
    "\n",
    "for ind_name, ratio_vals in ratios.items():\n",
    "    ratios[ind_name] = np.divide(outs_s1[ind_name], outs_s2[ind_name])"
   ]
  },
  {
   "cell_type": "code",
   "execution_count": null,
   "metadata": {},
   "outputs": [],
   "source": [
    "# Plot the ratios for each\n",
    "\n",
    "fig, ax = plt.subplots()\n",
    "\n",
    "ax.plot(xs,ratios['A'],color = \"#377eb8\", linewidth=5)\n",
    "ax.plot(xs,ratios['B'],color=\"#e41a1c\",linewidth=5)\n",
    "ax.plot(xs,ratios['C'],color=\"#4daf4a\",linewidth=5)\n",
    "    \n",
    "ax.set_xscale('log')\n",
    "ax.set_yscale('log')\n",
    "sns.despine()\n",
    "\n",
    "fig.set_size_inches(6,6.5)"
   ]
  },
  {
   "cell_type": "markdown",
   "metadata": {},
   "source": [
    "## 3-inputs, one differentiated\n",
    "\n",
    "Goal:\n",
    "* Simulate a case where 3 signals are parsed to detect only 1 metal"
   ]
  },
  {
   "cell_type": "code",
   "execution_count": null,
   "metadata": {},
   "outputs": [],
   "source": [
    "# Set output values for all inducers\n",
    "\n",
    "# x values for all inducers\n",
    "xs = np.logspace(-2,1,100)\n",
    "\n",
    "# inducer output values for each sensor, indcuer name key-valued lists\n",
    "outs_s1 = {'A': [], 'B': [], 'C': []}\n",
    "outs_s2 = {'A': [], 'B': [], 'C': []}\n",
    "\n",
    "# set sensor 1 values\n",
    "# A is default\n",
    "outs_s1['A'] = hill(xs, kd = 0.5, y_max = 1)\n",
    "# B has shifted KD and lower ymax\n",
    "outs_s1['B'] = hill(xs, kd = 0.5, y_max = 0.5)\n",
    "# C has same KD as B, but lower ymax\n",
    "outs_s1['C'] = hill(xs, kd = 0.5, y_max = 0.01)\n",
    "\n",
    "# set sensor 2 values\n",
    "# A is higher KD and shifted down\n",
    "outs_s2['A'] = hill(xs, kd = 5, y_max = 0.5)\n",
    "# B is default\n",
    "outs_s2['B'] = hill(xs, kd = 1, y_max = 0.01)\n",
    "# C has same KD as A, but lower ymax\n",
    "outs_s2['C'] = hill(xs, kd = 1, y_max = 1)"
   ]
  },
  {
   "cell_type": "code",
   "execution_count": null,
   "metadata": {},
   "outputs": [],
   "source": [
    "# Plot the inducer transfer functions\n",
    "fig, axes = plt.subplots(1,2)\n",
    "\n",
    "axes[0].plot(xs,outs_s1['A'],color = \"#377eb8\", linewidth=5)\n",
    "axes[0].plot(xs,outs_s1['B'],color=\"#e41a1c\",linewidth=5)\n",
    "axes[0].plot(xs,outs_s1['C'],color=\"#4daf4a\",linewidth=5)\n",
    "axes[0].legend(['Cd', 'Pb', 'As'])\n",
    "\n",
    "axes[0].set_xscale('log')\n",
    "axes[0].set_yscale('log')\n",
    "\n",
    "axes[1].plot(xs,outs_s2['A'],color = \"#377eb8\", linewidth=5)\n",
    "axes[1].plot(xs,outs_s2['B'],color=\"#e41a1c\",linewidth=5)\n",
    "axes[1].plot(xs,outs_s2['C'],color=\"#4daf4a\",linewidth=5)\n",
    "\n",
    "    \n",
    "axes[1].set_xscale('log')\n",
    "axes[1].set_yscale('log')\n",
    "\n",
    "sns.despine()\n",
    "\n",
    "fig.set_size_inches(12,5)\n",
    "plt.show()"
   ]
  },
  {
   "cell_type": "code",
   "execution_count": null,
   "metadata": {},
   "outputs": [],
   "source": [
    "# Calculate ratios over range of input inducer concentrations; Calculate sensor1/sensor2\n",
    "\n",
    "ratios = {'A': [], 'B': [], 'C': []}\n",
    "\n",
    "for ind_name, ratio_vals in ratios.items():\n",
    "    ratios[ind_name] = np.divide(outs_s1[ind_name], outs_s2[ind_name])\n",
    "    \n",
    "# Plot the ratios for each\n",
    "\n",
    "fig, ax = plt.subplots()\n",
    "\n",
    "ax.plot(xs,ratios['A'],color = \"#377eb8\", linewidth=5)\n",
    "ax.plot(xs,ratios['B'],color=\"#e41a1c\",linewidth=5)\n",
    "ax.plot(xs,ratios['C'],color=\"#4daf4a\",linewidth=5)\n",
    "ax.legend(['Cd', 'Pb', 'As'])\n",
    "\n",
    "ax.set_xscale('log')\n",
    "ax.set_yscale('log')\n",
    "sns.despine()\n",
    "\n",
    "fig.set_size_inches(6,6.5)"
   ]
  },
  {
   "cell_type": "markdown",
   "metadata": {},
   "source": [
    "## Ratiometric comparison w/ 4 signals"
   ]
  },
  {
   "cell_type": "markdown",
   "metadata": {},
   "source": [
    "* 2 sensors, 4 inputs"
   ]
  },
  {
   "cell_type": "code",
   "execution_count": null,
   "metadata": {},
   "outputs": [],
   "source": [
    "# Set output values for all inducers\n",
    "\n",
    "# x values for all inducers\n",
    "xs = np.logspace(-2,1,100)\n",
    "\n",
    "# inducer output values for each sensor, indcuer name key-valued lists\n",
    "outs_s1 = {'A': [], 'B': [], 'C': [],'D': []}\n",
    "outs_s2 = {'A': [], 'B': [], 'C': [],'D': []}\n",
    "outs_s3 = {'A': [], 'B': [], 'C': [],'D': []}\n",
    "\n",
    "# set sensor 1 values\n",
    "# A is default\n",
    "outs_s1['A'] = hill(xs)\n",
    "# B has shifted KD and lower ymax\n",
    "outs_s1['B'] = hill(xs, kd = 5, y_max = 0.1)\n",
    "# C has same KD as B, but lower ymax\n",
    "outs_s1['C'] = hill(xs, kd = 5, y_max = 0.05)\n",
    "outs_s1['D'] = hill(xs, kd = 0.1, y_max = 0.5)\n",
    "\n",
    "# set sensor 2 values\n",
    "# A is higher KD and shifted down\n",
    "outs_s2['A'] = hill(xs, kd = 1, y_max = 0.05)\n",
    "# B is default\n",
    "outs_s2['B'] = hill(xs)\n",
    "# C has same KD as A, but lower ymax\n",
    "outs_s2['C'] = hill(xs, kd = 2, y_max = 0.02)\n",
    "outs_s2['D'] = hill(xs, kd = 8, y_max = 0.1)"
   ]
  },
  {
   "cell_type": "code",
   "execution_count": null,
   "metadata": {},
   "outputs": [],
   "source": [
    "fig, ax = plt.subplots()\n",
    "\n",
    "ax.plot(xs,outs_s1['A'],color = \"#377eb8\", linewidth=5)\n",
    "ax.plot(xs,outs_s1['B'],color=\"#e41a1c\",linewidth=5)\n",
    "ax.plot(xs,outs_s1['C'],color=\"#4daf4a\",linewidth=5)\n",
    "ax.plot(xs,outs_s1['D'],color=\"#984ea3\",linewidth=5)\n",
    "\n",
    "    \n",
    "ax.set_xscale('log')\n",
    "ax.set_yscale('log')\n",
    "sns.despine()\n",
    "\n",
    "fig.set_size_inches(6,5)\n",
    "plt.show()"
   ]
  },
  {
   "cell_type": "code",
   "execution_count": null,
   "metadata": {
    "code_folding": []
   },
   "outputs": [],
   "source": [
    "fig, ax = plt.subplots()\n",
    "\n",
    "ax.plot(xs,outs_s2['A'],color = \"#377eb8\", linewidth=5)\n",
    "ax.plot(xs,outs_s2['B'],color=\"#e41a1c\",linewidth=5)\n",
    "ax.plot(xs,outs_s2['C'],color=\"#4daf4a\",linewidth=5)\n",
    "ax.plot(xs,outs_s2['D'],color=\"#984ea3\",linewidth=5)\n",
    "\n",
    "    \n",
    "ax.set_xscale('log')\n",
    "ax.set_yscale('log')\n",
    "sns.despine()\n",
    "\n",
    "fig.set_size_inches(6,5)\n",
    "plt.show()"
   ]
  },
  {
   "cell_type": "code",
   "execution_count": null,
   "metadata": {},
   "outputs": [],
   "source": [
    "# Calculate ratios over range of input inducer concentrations; Calculate sensor1/sensor2\n",
    "\n",
    "ratios = {'A': [], 'B': [], 'C': [], 'D':[]}\n",
    "\n",
    "for ind_name, ratio_vals in ratios.items():\n",
    "    ratios[ind_name] = np.divide(outs_s1[ind_name], outs_s2[ind_name])\n",
    "\n",
    "# Plot the ratios for each\n",
    "\n",
    "fig, ax = plt.subplots()\n",
    "\n",
    "ax.plot(xs,ratios['A'],color = \"#377eb8\", linewidth=5)\n",
    "ax.plot(xs,ratios['B'],color=\"#e41a1c\",linewidth=5)\n",
    "ax.plot(xs,ratios['C'],color=\"#4daf4a\",linewidth=5)\n",
    "ax.plot(xs,ratios['D'],color=\"#984ea3\",linewidth=5)\n",
    "    \n",
    "ax.set_xscale('log')\n",
    "ax.set_yscale('log')\n",
    "sns.despine()\n",
    "\n",
    "fig.set_size_inches(6,6.5)"
   ]
  },
  {
   "cell_type": "markdown",
   "metadata": {},
   "source": [
    "## Low-fold change ratiometric\n",
    "* use three sensors to differentiate three low-fold change "
   ]
  },
  {
   "cell_type": "code",
   "execution_count": null,
   "metadata": {},
   "outputs": [],
   "source": [
    "# Set output values for all inducers\n",
    "\n",
    "# x values for all inducers\n",
    "xs = np.logspace(-2,1,100)\n",
    "\n",
    "# inducer output values for each sensor, indcuer name key-valued lists\n",
    "outs_s1 = {'A': [], 'B': [], 'C': [],'D': []}\n",
    "outs_s2 = {'A': [], 'B': [], 'C': [],'D': []}\n",
    "outs_s3 = {'A': [], 'B': [], 'C': [],'D': []}\n",
    "\n",
    "# set sensor 1 values\n",
    "# A is default\n",
    "outs_s1['A'] = hill(xs)\n",
    "# B has shifted KD and lower ymax\n",
    "outs_s1['B'] = hill(xs, kd = 5, y_max = 0.1)\n",
    "# C has same KD as B, but lower ymax\n",
    "outs_s1['C'] = hill(xs, kd = 5, y_max = 0.05)\n",
    "outs_s1['D'] = hill(xs, kd = 0.1, y_max = 0.5)\n",
    "\n",
    "# set sensor 2 values\n",
    "# A is higher KD and shifted down\n",
    "outs_s2['A'] = hill(xs, kd = 1, y_max = 0.05)\n",
    "# B is default\n",
    "outs_s2['B'] = hill(xs)\n",
    "# C has same KD as A, but lower ymax\n",
    "outs_s2['C'] = hill(xs, kd = 2, y_max = 0.02)\n",
    "outs_s2['D'] = hill(xs, kd = 8, y_max = 0.1)\n",
    "\n",
    "# A is higher KD and shifted down\n",
    "outs_s2['A'] = hill(xs, kd = 1, y_max = 0.05)\n",
    "# B is default\n",
    "outs_s2['B'] = hill(xs)\n",
    "# C has same KD as A, but lower ymax\n",
    "outs_s2['C'] = hill(xs, kd = 2, y_max = 0.02)\n",
    "outs_s2['D'] = hill(xs, kd = 8, y_max = 0.1)"
   ]
  },
  {
   "cell_type": "code",
   "execution_count": null,
   "metadata": {},
   "outputs": [],
   "source": []
  }
 ],
 "metadata": {
  "kernelspec": {
   "display_name": "Python 3",
   "language": "python",
   "name": "python3"
  },
  "language_info": {
   "codemirror_mode": {
    "name": "ipython",
    "version": 3
   },
   "file_extension": ".py",
   "mimetype": "text/x-python",
   "name": "python",
   "nbconvert_exporter": "python",
   "pygments_lexer": "ipython3",
   "version": "3.7.3"
  }
 },
 "nbformat": 4,
 "nbformat_minor": 2
}
