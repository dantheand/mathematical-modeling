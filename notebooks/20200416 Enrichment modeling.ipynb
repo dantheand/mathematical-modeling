{
 "cells": [
  {
   "cell_type": "markdown",
   "metadata": {},
   "source": [
    "# 20200416 Enrichment modeling\n",
    "\n",
    "### Goals of notebook\n",
    "* build a model that maps between REU values and final enrichments\n",
    "* focus on the off-target ACE1A2mdm2 interaction from andrew\n",
    "\n",
    "### Parameters of interest\n",
    "* dilution amount\n",
    "* relative REU values (mapped to relative growth rates)\n",
    "\n",
    "### Things to figure out\n",
    "* relationship between observed relative growth rates and the growth rate $r$ in the logistic function\n",
    "* mapping between REU and relative growth rates"
   ]
  },
  {
   "cell_type": "markdown",
   "metadata": {},
   "source": [
    "# Logistic model and assumptions\n",
    "\n",
    "Beginning with a general competitive Lotka–Volterra model:\n",
    "\n",
    "$$ \\dot{x_i} = r_i x_i \\bigg(1 - \\frac{\\sum_{j=1}^{N} \\alpha_{ij} x_j}{ K_i} \\bigg) $$,\n",
    "\n",
    "Where $x_i$ is a given species, $r_i$ is its growth rate, $\\alpha_{ij}$ is the inter/intraspecies competition, $x_j$ is all species, and $K_i$ is the carrying capacity for species $x_i$.\n",
    "\n",
    "### Simplifying assumptions\n",
    "#### $\\alpha_{ij} = 1$\n",
    "Assumes that all the species compete with eachother and for common resources with equal strengths.\n",
    "\n",
    "#### $K_i = K$\n",
    "Assumes that all species have identical carrying capacity (maximum OD)\n",
    "\n",
    "#### $K = 1$\n",
    "Normalize carrying capacity $K$ to be 1 since we can now work with relative dilutions of the carrying capacity. \n",
    "\n",
    "### Simplified model:\n",
    "\n",
    "$$ \\dot{x_i} = r_i x_i \\bigg(1 - \\sum_{j=1}^{N} x_j \\bigg) $$"
   ]
  },
  {
   "cell_type": "markdown",
   "metadata": {},
   "source": [
    "# Relationship between growth rate definitions\n",
    "\n",
    "Taken from the Wikipedia page on exponential growth: https://www.wikiwand.com/en/Exponential_growth\n",
    "\n",
    "### Standard exponential function\n",
    "\n",
    "$$ \\dot{x} = kx$$\n",
    "\n",
    "Solves to:\n",
    "\n",
    "$$ x(t) = x_0 e^{kt}$$\n",
    "\n",
    "### Relationship between different exponential growth bases:\n",
    "$$ x(t) = x_0 e^{kt} = x_0 e^{t / \\tau} = x_0 2^{t/T} $$\n",
    "\n",
    "### Relationship between growth rates\n",
    "\n",
    "$$ k = \\frac{1}{\\tau} = \\frac{\\ln 2}{T}$$\n",
    "\n",
    "* growth constant $k$ is the frequency (number of times per unit time) of growing by a factor of $e$\n",
    "* $e$-folding time $\\tau$ is the time it takes to grow by a factor of $e$\n",
    "* $T$ is the doubling time\n",
    "\n",
    "### Relationship to derived growth rates from plate-reader experiments\n",
    "\n",
    "Plate-reader growth rates are derived by linear fit of the natural log of OD with respect to time. This yields the growth constant $k$ directly. $k$ directly feeds into the logistic growth function as $r_i$.\n",
    "\n",
    "### Relationship to normalized (relative) growth rates\n",
    "\n",
    "* must show that two species with normalized growth rates function the same as two species with absolute growth rates"
   ]
  },
  {
   "cell_type": "markdown",
   "metadata": {},
   "source": [
    "# Initial value calculations ($x_i(t=0)$)\n",
    "\n",
    "Maximum OD of all species together is the carrying capacity $K$, which we have normalized to 1. Therefore, all species concentrations, $x_i$, are defined as fractions of $K$.\n",
    "\n",
    "The initial OD of a given species:\n",
    "\n",
    "$$ x_i(t=0) = D*f_{i,0}$$\n",
    "\n",
    "Where $f_{i,0}$ is the fraction of species, $x_i$, in the original culture and $D$ is the dilution rate into fresh media.\n",
    "\n",
    "### Example\n",
    "For two species, $x_1$ and $x_2$ with $x_1$ being 1:10 and $x_2$ being 9:10 of the library a 1:100 dilution into fresh media (all part-to-whole ratios), $D = 0.01$, $f_{1,0} = 0.9$, and $f_{2,0} = 0.1$:\n",
    "\n",
    "$$x_1(t=0) = D * f_{0,1} = 0.009$$ \n",
    "$$x_2(t=0) = D * f_{0,2} = 0.001$$"
   ]
  },
  {
   "cell_type": "markdown",
   "metadata": {},
   "source": [
    "### Aside: Part-to-part vs part-to-whole ratios\n",
    "\n",
    "Important to note that all the ratios being discussed are part-to-whole ratios not part-to-part ratios. e.g. 1:10 means 1uL of the first into 9uL of the second NOT 1uL of the first into 10uL of the second."
   ]
  },
  {
   "cell_type": "markdown",
   "metadata": {},
   "source": [
    "## Enrichment calculation\n",
    "* calculated as the fraction of the population at the end divided by the initial fraction.\n",
    "\n",
    "$E = \\frac{f_{i}(t=end)}{f_{i}(t = 0)}$"
   ]
  },
  {
   "cell_type": "markdown",
   "metadata": {},
   "source": [
    "$f_{+}(t=0) : \\{0.5,10^{-1},10^{-2},10^{-3}\\}$"
   ]
  },
  {
   "cell_type": "markdown",
   "metadata": {},
   "source": [
    "# Validating relative growth rates and plotting growth curves\n",
    "Need to show that simulating the system with relative growth rates is the same as simulating the system with absolute growth rates. Hard to do this analytically because I can't find a general solution to competitive Lotke-Volterre equations...\n",
    "\n",
    "Test case: Two species, $x_1$ and $x_2$, with absolute growth rates, $r_1 = 0.25, r_2 = 0.125$, and relative growth rates of $\\bar{r_1} = 1, \\bar{r_2} = 0.5$.\n",
    "\n",
    "How does the system evolve over time for each?"
   ]
  },
  {
   "cell_type": "code",
   "execution_count": null,
   "metadata": {},
   "outputs": [],
   "source": [
    "import importlib\n",
    "import numpy as np\n",
    "import matplotlib.pyplot as plt\n",
    "import seaborn as sns\n",
    "import pandas as pd\n",
    "\n",
    "import matplotlib\n",
    "matplotlib.rc('figure', dpi = 150)\n",
    "sns.set_palette('muted')\n",
    "\n",
    "import sys\n",
    "sys.path.append('./modules')\n",
    "import enrichments"
   ]
  },
  {
   "cell_type": "code",
   "execution_count": null,
   "metadata": {},
   "outputs": [],
   "source": [
    "importlib.reload(enrichments)"
   ]
  },
  {
   "cell_type": "code",
   "execution_count": null,
   "metadata": {},
   "outputs": [],
   "source": [
    "# Define intial values and growth rates\n",
    "x_i0 = np.array([0.1, 0.9])\n",
    "# Define absolute rates and relative rates\n",
    "r_i = np.array([0.2,0.1])\n",
    "r_i_norm = r_i / np.max(r_i)\n",
    "\n",
    "dil = 100\n",
    "\n",
    "sys_1 = enrichments.Growth_tube(x_i0, r_i, dil)\n",
    "sys_2 = enrichments.Growth_tube(x_i0, r_i_norm, dil)"
   ]
  },
  {
   "cell_type": "code",
   "execution_count": null,
   "metadata": {},
   "outputs": [],
   "source": [
    "sys_1.sim_growth()\n",
    "sys_2.sim_growth()"
   ]
  },
  {
   "cell_type": "code",
   "execution_count": null,
   "metadata": {},
   "outputs": [],
   "source": [
    "fig, ax = plt.subplots(nrows = 1, ncols = 2, sharey = True, figsize = (6,3))\n",
    "\n",
    "#for x in sys_1.x_t[:,:]:\n",
    "#    ax[0].plot(sys_1.t, x)\n",
    "\n",
    "sys_1.plot_x_t(ax[0])\n",
    "sys_2.plot_x_t(ax[1])\n",
    "\n",
    "ax[0].set_title('Absolute growth rates')\n",
    "ax[1].set_title('Relative growth rates')\n",
    "ax[1].set_xlabel('Time')\n",
    "ax[1].set_ylabel('Normalized abundance')\n",
    "\n",
    "plt.show()"
   ]
  },
  {
   "cell_type": "code",
   "execution_count": null,
   "metadata": {},
   "outputs": [],
   "source": [
    "print('Absolute growth enrichment vals:', sys_1.enrichs)\n",
    "print('Relative growth enrichment vals:', sys_2.enrichs)"
   ]
  },
  {
   "cell_type": "markdown",
   "metadata": {},
   "source": [
    "Interesting... the ODs end up coming to the same value, but they happen at different times... which kind of makes sense. Should be fine to use relative growth rates for everything."
   ]
  },
  {
   "cell_type": "markdown",
   "metadata": {},
   "source": [
    "### Do a random one"
   ]
  },
  {
   "cell_type": "code",
   "execution_count": null,
   "metadata": {},
   "outputs": [],
   "source": [
    "np.random.seed(69)\n",
    "lib_sz = 100\n",
    "\n",
    "x_i0 = np.random.uniform(0,1,lib_sz)\n",
    "x_i0_norm = x_i0/np.sum(x_i0)\n",
    "r_i = np.random.uniform(0,1,lib_sz)\n",
    "\n",
    "dil = 100\n",
    "\n",
    "sys_rand = enrichments.Growth_tube(x_i0_norm, r_i, dil)\n",
    "sys_rand.sim_growth()"
   ]
  },
  {
   "cell_type": "code",
   "execution_count": null,
   "metadata": {},
   "outputs": [],
   "source": [
    "sns.set_palette('muted')\n",
    "fig, ax = plt.subplots(figsize = (3,3))\n",
    "\n",
    "sys_rand.plot_x_t(ax)\n",
    "\n",
    "ax.set_xlabel('Time')\n",
    "ax.set_ylabel('Normalized abundance')\n",
    "ax.set_ylim((0,np.max(sys_rand.x_t)))\n",
    "\n",
    "plt.show()"
   ]
  },
  {
   "cell_type": "code",
   "execution_count": null,
   "metadata": {},
   "outputs": [],
   "source": [
    "fig, ax = plt.subplots(figsize = (3,3))\n",
    "\n",
    "y = np.arange(len(sys_rand.enrichs))\n",
    "ax.bar(y,np.sort(sys_rand.enrichs),width =2)\n",
    "ax.set_xlabel('Member index')\n",
    "ax.set_ylabel('Enrichment')"
   ]
  },
  {
   "cell_type": "markdown",
   "metadata": {},
   "source": [
    "# Calculating enrichments\n",
    "\n",
    "Enrichments are automatically calculated for each species after running the simulations. They're accessible in the Growth_tube object."
   ]
  },
  {
   "cell_type": "code",
   "execution_count": null,
   "metadata": {},
   "outputs": [],
   "source": [
    "sys_1.enrichs"
   ]
  },
  {
   "cell_type": "markdown",
   "metadata": {},
   "source": [
    "# Simulate Andrew's enrichments"
   ]
  },
  {
   "cell_type": "markdown",
   "metadata": {},
   "source": [
    "REU values:\n",
    "\n",
    "|Strain | REU|\n",
    "|-|-|\n",
    "s953 | 1.9\n",
    "s950 | 0.02\n",
    "s951 | 0.13\n",
    "s952 | 0.29\n",
    "\n",
    "Cm values used (uM):\n",
    "400, 300, 200, 100, 50, 25, 12, 0\n",
    "\n",
    "Initial positive fractions used: 0.5,0.1,0.01,0.001\n",
    "\n",
    "### Method\n",
    "Eyeballed the relative growth values given REUs and Cm concentrations"
   ]
  },
  {
   "cell_type": "code",
   "execution_count": null,
   "metadata": {},
   "outputs": [],
   "source": [
    "df_growth = pd.read_excel('./andrews_enrich_growths.xlsx')\n",
    "df_growth"
   ]
  },
  {
   "cell_type": "code",
   "execution_count": null,
   "metadata": {},
   "outputs": [],
   "source": [
    "# Function to run an enrichment simulation against s953 at the given [Cm] and with a given starting fraction\n",
    "def enrich_s953(row, frac_pos, dil = 100):\n",
    "    pos_strain = 's953'\n",
    "    \n",
    "    cm = row['cm']\n",
    "    neg_growth = row['rel_growth']\n",
    "    pos_growth = df_growth[(df_growth['strain'] == pos_strain) & (df_growth['cm'] == cm)]['rel_growth'].values[0]\n",
    "    # Create test tube and simulate (positive first in the arrays)\n",
    "    x_i0 = np.array([frac_pos, (1-frac_pos)])\n",
    "    r_i = np.array([pos_growth, neg_growth])\n",
    "    \n",
    "    tube = enrichments.Growth_tube(x_i0, r_i, dil)\n",
    "    tube.sim_growth()\n",
    "    # Get enrichment of the positive strain    \n",
    "    row['enrich'] = tube.enrichs[0]\n",
    "    row['frac'] = frac_pos\n",
    "    \n",
    "    return row"
   ]
  },
  {
   "cell_type": "code",
   "execution_count": null,
   "metadata": {},
   "outputs": [],
   "source": [
    "df_enrich = pd.DataFrame(columns = ['strain', 'reu', 'cm', 'rel_growth', 'enrich', 'frac'])\n",
    "\n",
    "pos_fracs = np.array([0.5,0.1,0.01,0.001])\n",
    "\n",
    "for frac in pos_fracs:\n",
    "    new_df = df_growth.apply(enrich_s953,axis = 1,frac_pos = frac)\n",
    "    df_enrich = df_enrich.append(new_df, ignore_index = True)"
   ]
  },
  {
   "cell_type": "code",
   "execution_count": null,
   "metadata": {},
   "outputs": [],
   "source": [
    "df_enrich.head()"
   ]
  },
  {
   "cell_type": "markdown",
   "metadata": {},
   "source": [
    "## Recreate Andrew's plots"
   ]
  },
  {
   "cell_type": "code",
   "execution_count": null,
   "metadata": {},
   "outputs": [],
   "source": [
    "strains = ['s950', 's951', 's952']\n",
    "strain_names = {'s950': 'PMI-RBD', 's951': 'ACE2a1-Mdm2', 's952': 'ACE2a1a2-Mdm2'}\n",
    "\n",
    "fig, ax = plt.subplots(nrows = 3, ncols = 1, figsize = (5,14))\n",
    "plt.subplots_adjust(hspace = 0.3)\n",
    "sns.set_palette(sns.color_palette(\"husl\"))\n",
    "\n",
    "i = 0\n",
    "for strain in strains:\n",
    "    # First subset dataframe\n",
    "    df_subset = df_enrich[df_enrich['strain'] == strain]\n",
    "\n",
    "    sns.barplot(x = 'cm', y = 'enrich', hue = 'frac', \n",
    "                hue_order = df_subset['frac'].unique(), \n",
    "                data = df_subset, ax = ax[i])\n",
    "    \n",
    "    ax[i].set_ylim([0.1,1100])\n",
    "    ax[i].set_yscale('log')\n",
    "    ax[i].set_title(strain_names[strain])\n",
    "    ax[i].set_ylabel('Enrichment')\n",
    "    ax[i].set_xlabel('Chloramphenicol')\n",
    "    ax[i].legend(title='Initial fraction')\n",
    "    \n",
    "    i += 1\n",
    "\n",
    "plt.show()\n"
   ]
  },
  {
   "cell_type": "markdown",
   "metadata": {},
   "source": [
    "# Large library enrichments\n",
    "\n",
    "Try to see how much enrichment we get with the initial fraction of positive cells is something like $10^{-8}$ (more realistic library scenario). Try for different amounts of Cm and different library fractions."
   ]
  },
  {
   "cell_type": "code",
   "execution_count": null,
   "metadata": {},
   "outputs": [],
   "source": [
    "# Use enrichment function from above for all the control strains\n",
    "\n",
    "df_lib_enrich = pd.DataFrame(columns = ['strain', 'reu', 'cm', 'rel_growth', 'enrich', 'frac', 'dil'])\n",
    "\n",
    "lib_pos_fracs = np.array([1e-2,1e-3,1e-5,1e-7,1e-9])\n",
    "dils = [100,1000,10000]\n",
    "\n",
    "for frac in lib_pos_fracs:\n",
    "    for dil in dils: \n",
    "        new_df = df_growth.apply(enrich_s953, axis = 1,frac_pos = frac, dil = dil)\n",
    "        new_df['dil'] = dil\n",
    "        df_lib_enrich = df_lib_enrich.append(new_df, ignore_index = True)\n",
    "df_lib_enrich"
   ]
  },
  {
   "cell_type": "code",
   "execution_count": null,
   "metadata": {},
   "outputs": [],
   "source": [
    "# Plot it\n",
    "\n",
    "strains = ['s950', 's951', 's952']\n",
    "strain_names = {'s950': 'PMI-RBD', 's951': 'ACE2a1-Mdm2', 's952': 'ACE2a1a2-Mdm2'}\n",
    "\n",
    "fig, ax = plt.subplots(nrows = 3, ncols = 3, figsize = (10,14), sharey = True)\n",
    "plt.subplots_adjust(hspace = 0.3)\n",
    "sns.set_palette(sns.color_palette(\"husl\"))\n",
    "\n",
    "i = 0\n",
    "j = 0\n",
    "for dil in dils:\n",
    "    for strain in strains:\n",
    "        \n",
    "        # First subset dataframe\n",
    "        df_subset = df_lib_enrich[(df_lib_enrich['strain'] == strain) & (df_lib_enrich['dil'] == dil)]\n",
    "\n",
    "        sns.barplot(x = 'cm', y = 'enrich', hue = 'frac',\n",
    "                    hue_order = df_subset['frac'].unique(), \n",
    "                    data = df_subset, ax = ax[i,j])\n",
    "\n",
    "        ax[i,j].set_ylim([1e-1,1e10])\n",
    "        ax[i,j].set_yscale('log')\n",
    "        ax[i,j].set_title(strain_names[strain] + ' ' + str(dil) + '-fold')\n",
    "        ax[i,j].set_ylabel('Enrichment')\n",
    "        ax[i,j].set_xlabel('Chloramphenicol')\n",
    "        ax[i,j].legend(title='Initial fraction')\n",
    "        \n",
    "        i += 1\n",
    "    i=0\n",
    "    j += 1\n",
    "\n",
    "plt.show()\n"
   ]
  },
  {
   "cell_type": "markdown",
   "metadata": {},
   "source": [
    "# Todo"
   ]
  },
  {
   "cell_type": "markdown",
   "metadata": {},
   "source": []
  },
  {
   "cell_type": "code",
   "execution_count": null,
   "metadata": {},
   "outputs": [],
   "source": []
  },
  {
   "cell_type": "code",
   "execution_count": null,
   "metadata": {},
   "outputs": [],
   "source": []
  }
 ],
 "metadata": {
  "kernelspec": {
   "display_name": "Python 3",
   "language": "python",
   "name": "python3"
  },
  "language_info": {
   "codemirror_mode": {
    "name": "ipython",
    "version": 3
   },
   "file_extension": ".py",
   "mimetype": "text/x-python",
   "name": "python",
   "nbconvert_exporter": "python",
   "pygments_lexer": "ipython3",
   "version": "3.6.7"
  }
 },
 "nbformat": 4,
 "nbformat_minor": 2
}
