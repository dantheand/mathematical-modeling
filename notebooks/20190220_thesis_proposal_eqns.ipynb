{
 "cells": [
  {
   "cell_type": "markdown",
   "metadata": {},
   "source": [
    " $\\text{Output} \\propto \\rho$\n",
    " \n",
    " $$K_d = K_r$$\n",
    " $$K_d = 10K_r$$"
   ]
  },
  {
   "cell_type": "markdown",
   "metadata": {},
   "source": [
    "$$\\rho^+ << \\frac{1}{\\frac{K_r}{g_d^-} + \\frac{K_r}{K_d}}$$"
   ]
  },
  {
   "cell_type": "markdown",
   "metadata": {},
   "source": [
    "If $K_d = K_a = K_r = K$, then the ratio constraint is:\n",
    "\n",
    "$$ \\rho^+ << \\frac{1}{\\frac{K}{g_d^-} + 1} $$"
   ]
  },
  {
   "cell_type": "markdown",
   "metadata": {},
   "source": [
    "$$\\text{Output} \\approx \n",
    "    P_{tot} \\bigg({\\frac{K_r}{g_r}}\n",
    "    + {\\frac{\\alpha \\rho}{\\frac{K_d}{K_r}}}\\bigg)\n",
    "$$\n",
    "\n",
    "$$\\text{Output} \\approx \n",
    "    P_{tot} \\bigg({\\frac{\\rho}{\\frac{K_a}{K_r}}}\\bigg)\n",
    "$$"
   ]
  },
  {
   "cell_type": "markdown",
   "metadata": {},
   "source": [
    "$$ K_d > K_r $$"
   ]
  },
  {
   "cell_type": "code",
   "execution_count": null,
   "metadata": {},
   "outputs": [],
   "source": []
  }
 ],
 "metadata": {
  "kernelspec": {
   "display_name": "Python 3",
   "language": "python",
   "name": "python3"
  },
  "language_info": {
   "codemirror_mode": {
    "name": "ipython",
    "version": 3
   },
   "file_extension": ".py",
   "mimetype": "text/x-python",
   "name": "python",
   "nbconvert_exporter": "python",
   "pygments_lexer": "ipython3",
   "version": "3.6.7"
  }
 },
 "nbformat": 4,
 "nbformat_minor": 2
}
