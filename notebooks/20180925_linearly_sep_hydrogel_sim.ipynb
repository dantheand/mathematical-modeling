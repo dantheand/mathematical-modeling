{
 "cells": [
  {
   "cell_type": "markdown",
   "metadata": {},
   "source": [
    "# 20180925 Linearly-separable hydrogel simulations\n",
    "\n",
    "### Goal\n",
    "* See how linearly separable classification problems can map to 2D plane with diffusing inputs\n",
    "* identify interesting linearly-separable problems to tackle with a genetic circuit linear classifier\n",
    "\n",
    "### Approach\n",
    "\n",
    "#### Hydrogel\n",
    "* Create 2D plane\n",
    "* Place different number of inducers in various patterns across plane\n",
    "* Simulate diffusion of inducers across plane\n",
    "\n",
    "#### Linear Classifier\n",
    "* Look at 2D / 3D / maybe ND space\n",
    "* Divide space using lines, planes, hyperplanes to create two classifications\n",
    "\n",
    "#### Combining\n",
    "* Map how different classification separations will map to 2D system \n",
    "* Look for interesting patterns"
   ]
  },
  {
   "cell_type": "markdown",
   "metadata": {},
   "source": [
    "## Simulation assumptions / methods"
   ]
  },
  {
   "cell_type": "markdown",
   "metadata": {},
   "source": [
    "### Hydrogel diffusion model\n",
    "* 2D isotropic diffusion taken at a specific timepoint\n",
    "* Inducers allowed to vary in diffusion rates\n",
    "* Conservation of solute\n",
    "* Flux = 0 at infinite distance\n",
    "* Location of inducer spike spot is $(x_0,y_0)$\n",
    "\n",
    "Initial equation:\n",
    "$$ C(x,y,t) = \\frac{1}{4 \\pi D t} \\exp{\\bigg(\\frac{-((x-x_0)^2 + (y-y_0)^2)}{4 D t}\\bigg)} $$\n",
    "\n",
    "Fix at time $t = 1$:\n",
    "$$ C(x,y) = \\frac{1}{4 \\pi D} \\exp{\\bigg(\\frac{-((x-x_0)^2 + (y-y_0)^2)}{4 D}\\bigg)} $$\n",
    "\n",
    "Differences between inducers defined only by diffusion constant $D$."
   ]
  },
  {
   "cell_type": "markdown",
   "metadata": {},
   "source": [
    "### Linearly-separable classification model\n",
    "\n",
    "Let $X_0$ and $X_1$ be two sets of points in an $n$-dimensional Euclidean space. $X_0$ and $X_1$ are linearly-separable if there exists a weight vector, $\\bar{w}$, and a bias, $k$, such that:\n",
    "\n",
    "Every point $\\bar{x} \\in X_0$ satisfies:\n",
    "\n",
    "$$\\bar{w} \\bar{x} - k > 0 $$\n",
    "\n",
    "And every point $\\bar{x} \\in X_1$ satisfies:\n",
    "\n",
    "$$\\bar{w} \\bar{x} + k < 0 $$\n",
    "\n",
    "Weight vector and bias define the line / plane / hyperplane that is doing the linear separation."
   ]
  },
  {
   "cell_type": "markdown",
   "metadata": {},
   "source": [
    "#### Converting from weight / bias form to plottable form\n",
    "\n",
    "To plot: need to isolate a single variable (get it as a function of all other variables)\n",
    "\n",
    "#### 2D\n",
    "Line in vectorized form:\n",
    "\n",
    "$$\\bar{w} \\cdot \\bar{x} - k = 0$$\n",
    "\n",
    "Expand it out and substitute in explicitly-stated:\n",
    "\n",
    "bias: $k$, \n",
    "\n",
    "weights: $ \\bar{w} = <w_0,w_1>$,\n",
    "\n",
    "and variables: $ \\bar{x} = <x_0, x_1>$\n",
    "\n",
    "$$ <w_0,w_1> \\cdot <x_0, x_1> - k = 0$$\n",
    "\n",
    "Solve for the last variable, $x_1$:\n",
    "\n",
    "$$x_1 = -\\frac{w_0}{w_1}x_0 + \\frac{k}{w_1} $$\n",
    "\n",
    "Y-intercept ends up being $\\frac{k}{w_1}$\n",
    "\n",
    "#### 3D\n",
    "\n",
    "Same except weight vector and variable vector are $\\\\R^3$\n",
    "\n",
    "$$ x_2 = -\\frac{w_0}{w_2}x_0 -\\frac{w_1}{w_2}x_1 + \\frac{k}{w_2} $$"
   ]
  },
  {
   "cell_type": "markdown",
   "metadata": {},
   "source": [
    "## Code"
   ]
  },
  {
   "cell_type": "code",
   "execution_count": null,
   "metadata": {
    "tags": []
   },
   "outputs": [],
   "source": [
    "import numpy as np\n",
    "import matplotlib.pyplot as plt\n",
    "%matplotlib inline\n",
    "from mpl_toolkits import mplot3d\n",
    "import sys\n",
    "import seaborn as sns\n",
    "\n",
    "sys.path.append('../modules')\n",
    "import diff_model_objs as diffob"
   ]
  },
  {
   "cell_type": "code",
   "execution_count": null,
   "metadata": {
    "tags": []
   },
   "outputs": [],
   "source": [
    "# Import reloads for when modules are being changed\n",
    "import importlib\n",
    "importlib.reload(diffob)"
   ]
  },
  {
   "cell_type": "markdown",
   "metadata": {},
   "source": [
    "## Plotting diffusors examples"
   ]
  },
  {
   "cell_type": "markdown",
   "metadata": {},
   "source": [
    "* create 2D plane\n",
    "* plot 2D Gaussians at various locations across it\n",
    "* plot concentration of each inducer as different darkness of colors\n",
    "\n",
    "### Coding\n",
    "* Diffusor object:\n",
    "    * instance attributes:\n",
    "        * location (x,y)\n",
    "        * Diffusion constant\n",
    "    * instance methods\n",
    "        * get concentrations for give x,y coordinates\n",
    "        "
   ]
  },
  {
   "cell_type": "markdown",
   "metadata": {},
   "source": [
    "### Try with 1D plot first (fix y values)"
   ]
  },
  {
   "cell_type": "code",
   "execution_count": null,
   "metadata": {},
   "outputs": [],
   "source": [
    "inducer_a = diffob.Diffusor(name = 'A')\n",
    "\n",
    "num_points = 100\n",
    "xs = np.linspace(0,5,num_points)\n",
    "ys = [0] * num_points\n",
    "\n",
    "z_vals = inducer_a.get_conc(xs,ys)\n",
    "\n",
    "plt.plot(xs,z_vals)\n",
    "plt.show()"
   ]
  },
  {
   "cell_type": "markdown",
   "metadata": {},
   "source": [
    "Looks good!"
   ]
  },
  {
   "cell_type": "markdown",
   "metadata": {},
   "source": [
    "### 3D"
   ]
  },
  {
   "cell_type": "code",
   "execution_count": null,
   "metadata": {
    "tags": []
   },
   "outputs": [],
   "source": [
    "inducer_a = diffob.Diffusor(name = 'A')\n",
    "inducer_b = diffob.Diffusor(coordinates=(5,5), name = 'B')\n",
    "inducer_c = diffob.Diffusor(coordinates=(5,0), name = 'C')"
   ]
  },
  {
   "cell_type": "code",
   "execution_count": null,
   "metadata": {
    "tags": []
   },
   "outputs": [],
   "source": [
    "num_points = 100\n",
    "x = np.linspace(0,10,100)\n",
    "y = np.linspace(0,5,50)\n",
    "\n",
    "xs, ys = np.meshgrid(x,y, sparse = True, indexing = 'xy')"
   ]
  },
  {
   "cell_type": "code",
   "execution_count": null,
   "metadata": {
    "tags": []
   },
   "outputs": [],
   "source": [
    "z_vals_a = inducer_a.get_conc(xs,ys)\n",
    "z_vals_b = inducer_b.get_conc(xs,ys)\n",
    "z_vals_c = inducer_c.get_conc(xs,ys)"
   ]
  },
  {
   "cell_type": "code",
   "execution_count": null,
   "metadata": {},
   "outputs": [],
   "source": [
    "fig = plt.figure()\n",
    "ax = fig.gca()\n",
    "# Plot the first inducer\n",
    "ax.contourf(x,y,z_vals_a,100, cmap = 'Reds', alpha = 1)\n",
    "# Plot the second inducer\n",
    "ax.contourf(x,y,z_vals_b,100, cmap = 'Blues', alpha = 0.5)\n",
    "# Plot the third\n",
    "ax.contourf(x,y,z_vals_c,100, cmap = 'Greens', alpha = 0.3)\n",
    "\n",
    "ax.set_xlabel('x')\n",
    "ax.set_ylabel('y')\n",
    "plt.show()"
   ]
  },
  {
   "cell_type": "code",
   "execution_count": null,
   "metadata": {},
   "outputs": [],
   "source": [
    "z_vals_a.shape"
   ]
  },
  {
   "cell_type": "code",
   "execution_count": null,
   "metadata": {},
   "outputs": [],
   "source": [
    "np.empty((2,2,3))"
   ]
  },
  {
   "cell_type": "markdown",
   "metadata": {},
   "source": [
    "## Creating linearly-separable spaces"
   ]
  },
  {
   "cell_type": "markdown",
   "metadata": {},
   "source": [
    "Goal of this section:\n",
    "* learn how to create and visualize linearly-separable spaces"
   ]
  },
  {
   "cell_type": "markdown",
   "metadata": {},
   "source": [
    "### 2D\n",
    "\n",
    "Given weight vector and bias, plot the line in 2D space: \n",
    "$$x_1 = -\\frac{w_0}{w_1}x_0 + \\frac{k}{w_2} $$"
   ]
  },
  {
   "cell_type": "markdown",
   "metadata": {},
   "source": [
    "Create vectorized 2D plot function"
   ]
  },
  {
   "cell_type": "code",
   "execution_count": null,
   "metadata": {
    "code_folding": [],
    "tags": []
   },
   "outputs": [],
   "source": [
    "def plt_2d(ax, w_bar, bias, x_range, param_dict):\n",
    "    \n",
    "    ys = []\n",
    "    for x in x_range:\n",
    "        y = - w_bar[0]/w_bar[1]*x + (bias/w_bar[1])\n",
    "        ys.append(y)\n",
    "    \n",
    "    \n",
    "    out = ax.plot(x_range,ys, **param_dict)\n",
    "    return out\n",
    "    "
   ]
  },
  {
   "cell_type": "markdown",
   "metadata": {},
   "source": [
    "Plot"
   ]
  },
  {
   "cell_type": "code",
   "execution_count": null,
   "metadata": {},
   "outputs": [],
   "source": [
    "w_bar = np.array([-0.5,0.5])\n",
    "bias = 0\n",
    "\n",
    "x_range = np.linspace(0,10,100)\n",
    "\n",
    "fig, ax = plt.subplots(1,1)\n",
    "plt_2d(ax,w_bar, bias,x_range, {});\n",
    "ax.set_xlim(left = 0, right = 10)\n",
    "ax.set_ylim(bottom = 0, top = 10)\n",
    "ax.set_xlabel('x');\n",
    "ax.set_ylabel('y');"
   ]
  },
  {
   "cell_type": "code",
   "execution_count": null,
   "metadata": {},
   "outputs": [],
   "source": [
    "# Create a model then plot it\n",
    "\n",
    "w_bar = np.array([-0.5,0.5])\n",
    "bias = 0\n",
    "\n",
    "model = diffob.Lin_classifier(w_bar,bias)\n",
    "\n",
    "x_range = np.linspace(0,10,100)\n",
    "\n",
    "fig, ax = plt.subplots(1,1)\n",
    "\n",
    "model.plot(ax, x_range);"
   ]
  },
  {
   "cell_type": "markdown",
   "metadata": {},
   "source": [
    "### 3D\n",
    "\n",
    "Given weight vector and bias, plot the separating plane in 3D space: \n",
    "$$ x_2 = -\\frac{w_0}{w_2}x_0 -\\frac{w_1}{w_2}x_1 + \\frac{k}{w_2} $$"
   ]
  },
  {
   "cell_type": "code",
   "execution_count": null,
   "metadata": {
    "tags": []
   },
   "outputs": [],
   "source": [
    "def z_func_3d(x_val,y_val):\n",
    "    weights = [1,-1,1]\n",
    "    bias = 0\n",
    "    \"\"\" 3D Z solution to be vectorized. \"\"\"\n",
    "    z = -weights[0]/weights[2]*x_val - \\\n",
    "        weights[1]/weights[2]*y_val \\\n",
    "        + bias/weights[2]\n",
    "\n",
    "    return z\n",
    "\n",
    "def plt_3d(w_bar, bias, x_range, y_range):\n",
    "    \n",
    "    xs, ys = np.meshgrid(x_range,y_range, sparse = True, indexing = 'xy')\n",
    "    \n",
    "    z_vect_fnc = np.vectorize(z_func_3d)\n",
    "    zs = z_vect_fnc(xs,ys)\n",
    "    \n",
    "    return np.array(zs)\n",
    "\n",
    "\n",
    "\n"
   ]
  },
  {
   "cell_type": "code",
   "execution_count": null,
   "metadata": {},
   "outputs": [],
   "source": [
    "weights = [1,-1,1]\n",
    "bias = 0\n",
    "\n",
    "plt_3d(weights, bias, x_range, x_range)"
   ]
  },
  {
   "cell_type": "code",
   "execution_count": null,
   "metadata": {
    "tags": []
   },
   "outputs": [],
   "source": [
    "importlib.reload(diffob);"
   ]
  },
  {
   "cell_type": "code",
   "execution_count": null,
   "metadata": {
    "tags": []
   },
   "outputs": [],
   "source": [
    "weights = [1,0.1,0.1]\n",
    "bias = 5\n",
    "\n",
    "model = diffob.Lin_classifier(weights,bias)"
   ]
  },
  {
   "cell_type": "code",
   "execution_count": null,
   "metadata": {},
   "outputs": [],
   "source": [
    "fig = plt.figure()\n",
    "ax = fig.add_subplot(1,1,1, projection='3d')\n",
    "model.plot(ax,x_range,y_range = x_range);\n",
    "ax.set_xlabel('x_0')\n",
    "ax.set_ylabel('x_1')\n",
    "ax.set_zlabel('x_2')"
   ]
  },
  {
   "cell_type": "markdown",
   "metadata": {},
   "source": [
    "## Object testing"
   ]
  },
  {
   "cell_type": "markdown",
   "metadata": {},
   "source": [
    "#### Plate"
   ]
  },
  {
   "cell_type": "code",
   "execution_count": null,
   "metadata": {
    "tags": []
   },
   "outputs": [],
   "source": [
    "importlib.reload(diffob);"
   ]
  },
  {
   "cell_type": "code",
   "execution_count": null,
   "metadata": {},
   "outputs": [],
   "source": [
    "# Create plate and get the coordinates of a well\n",
    "x_dim = 10\n",
    "y_dim = 5\n",
    "\n",
    "plate = diffob.Plate(dim = (x_dim,y_dim))\n",
    "plate.lattice[0,99].coord"
   ]
  },
  {
   "cell_type": "markdown",
   "metadata": {},
   "source": [
    "#### Apply inducers"
   ]
  },
  {
   "cell_type": "code",
   "execution_count": null,
   "metadata": {},
   "outputs": [],
   "source": [
    "ind_list = [\n",
    "    diffob.Diffusor(name = 'A'),\n",
    "    diffob.Diffusor(name = 'B', coordinates=(3,3)),\n",
    "]\n",
    "\n",
    "for inducer in ind_list:\n",
    "    plate.apply_inducer(inducer)\n",
    "\n",
    "test_well = plate.lattice[100,0]\n",
    "test_well.report_inducer()"
   ]
  },
  {
   "cell_type": "markdown",
   "metadata": {},
   "source": [
    "Everything seems to work well"
   ]
  },
  {
   "cell_type": "markdown",
   "metadata": {},
   "source": [
    "#### Classifier Model"
   ]
  },
  {
   "cell_type": "code",
   "execution_count": null,
   "metadata": {},
   "outputs": [],
   "source": [
    "# Initialize y = x classification model and apply to coordinate \n",
    "model = diffob.Lin_classifier(np.array([1,-1]), 0)\n",
    "model.return_state(coord= (1,0))"
   ]
  },
  {
   "cell_type": "markdown",
   "metadata": {},
   "source": [
    "Model should be true when $x_0 > x_1$"
   ]
  },
  {
   "cell_type": "markdown",
   "metadata": {},
   "source": [
    "#### Adding Cells"
   ]
  },
  {
   "cell_type": "code",
   "execution_count": null,
   "metadata": {
    "tags": []
   },
   "outputs": [],
   "source": [
    "# Fill plate with cells from linear classifier model above\n",
    "plate.add_cells(model = model)"
   ]
  },
  {
   "cell_type": "code",
   "execution_count": null,
   "metadata": {
    "tags": []
   },
   "outputs": [],
   "source": [
    "cell_pop = plate.lattice[0,10].cells"
   ]
  },
  {
   "cell_type": "code",
   "execution_count": null,
   "metadata": {},
   "outputs": [],
   "source": [
    "print(\"Cell coordinates:\", cell_pop.coord)\n",
    "print(\"Inducer concentrations:\", cell_pop.ind.values())\n",
    "print(\"Cell circuit state:\", cell_pop.circuit_val)"
   ]
  },
  {
   "cell_type": "markdown",
   "metadata": {},
   "source": [
    "#### Plotting inducers and cell states on plate"
   ]
  },
  {
   "cell_type": "code",
   "execution_count": null,
   "metadata": {},
   "outputs": [],
   "source": [
    "fig, ax0 = plt.subplots(1, 1)\n",
    "plate.plot_ind(ax0, param_dict={'levels': 50});\n",
    "plate.plot_cells(ax0, param_dict = {'alpha': 0.15, 'cmap': 'gist_gray'})\n",
    "fig.set_size_inches(10,5, forward = True)"
   ]
  },
  {
   "cell_type": "markdown",
   "metadata": {},
   "source": [
    "## 2D Classifier Variants"
   ]
  },
  {
   "cell_type": "code",
   "execution_count": null,
   "metadata": {
    "tags": []
   },
   "outputs": [],
   "source": [
    "importlib.reload(diffob);"
   ]
  },
  {
   "cell_type": "markdown",
   "metadata": {},
   "source": [
    "Create a set of cell linear classifier models and look at what they do on a standard inducer plate"
   ]
  },
  {
   "cell_type": "markdown",
   "metadata": {},
   "source": [
    "### Vary weights"
   ]
  },
  {
   "cell_type": "code",
   "execution_count": null,
   "metadata": {
    "tags": []
   },
   "outputs": [],
   "source": [
    "# Create set of models from a set of weights and biases\n",
    "\n",
    "weights = [\n",
    "    (0.25,-1),\n",
    "    (1,-1),\n",
    "    (2,-1),\n",
    "    (4,-1)\n",
    "]\n",
    "\n",
    "biases = [0,0,0,0]\n",
    "\n",
    "model_list = []\n",
    "for i in range(len(weights)):\n",
    "    model_list.append(diffob.Lin_classifier(weights[i], biases[i]))"
   ]
  },
  {
   "cell_type": "markdown",
   "metadata": {},
   "source": [
    "Plot classifier models"
   ]
  },
  {
   "cell_type": "code",
   "execution_count": null,
   "metadata": {},
   "outputs": [],
   "source": [
    "x_range = np.linspace(0,10,100)\n",
    "\n",
    "fig, ax = plt.subplots(1,1)\n",
    "\n",
    "for model in model_list:\n",
    "    model.plot(ax,x_range)\n",
    "    \n",
    "ax.set_xlim(left = 0, right = 10)\n",
    "ax.set_ylim(bottom = 0, top = 10)\n",
    "ax.set_xlabel('x_0');\n",
    "ax.set_ylabel('x_1');"
   ]
  },
  {
   "cell_type": "markdown",
   "metadata": {},
   "source": [
    "Loop through and make a bunch of plates"
   ]
  },
  {
   "cell_type": "code",
   "execution_count": null,
   "metadata": {
    "code_folding": [],
    "tags": []
   },
   "outputs": [],
   "source": [
    "# Create replicates of standard plate with fixed inducer locations\n",
    "x_dim = 10\n",
    "y_dim = 5\n",
    "\n",
    "ind_list = [\n",
    "    diffob.Diffusor(name = 'A'),\n",
    "    diffob.Diffusor(name = 'B', coordinates=(3,3)),\n",
    "]\n",
    "\n",
    "plates_list = []\n",
    "\n",
    "for i in range(len(weights)):\n",
    "    # Create plate\n",
    "    plate = diffob.Plate(dim = (x_dim,y_dim))\n",
    "    # Apply inducers\n",
    "    for inducer in ind_list:\n",
    "        plate.apply_inducer(inducer)\n",
    "    # Fill plate with cells from linear classifier model list\n",
    "    plate.add_cells(model = model_list[i])\n",
    "    # Append to list\n",
    "    plates_list.append(plate)\n"
   ]
  },
  {
   "cell_type": "markdown",
   "metadata": {},
   "source": [
    "Plot them"
   ]
  },
  {
   "cell_type": "code",
   "execution_count": null,
   "metadata": {},
   "outputs": [],
   "source": [
    "fig, axes = plt.subplots(len(weights), 2, sharey= True)\n",
    "\n",
    "plate_i = 0\n",
    "# Plot plate / inducer plots\n",
    "for ax in axes[:,0]:\n",
    "    plates_list[plate_i].plot_ind(ax, param_dict={'levels': 50});\n",
    "    plates_list[plate_i].plot_cells(ax, param_dict = {'alpha': 0.15, 'cmap': 'gist_gray'})\n",
    "    ax.set_xlabel('x coord')\n",
    "    ax.set_ylabel('y coord')\n",
    "    \n",
    "    plate_i = plate_i + 1\n",
    "    \n",
    "# Plot model functions\n",
    "i = 0\n",
    "for ax in axes[:,1]:\n",
    "    model_list[i].plot(ax,x_range)\n",
    "    ax.set_xlim(left = 0, right = 10)\n",
    "    ax.set_ylim(bottom = 0, top = 5)\n",
    "    ax.set_xlabel('x_0')\n",
    "    ax.set_ylabel('x_1')\n",
    "    i = i + 1\n",
    "    \n",
    "    \n",
    "fig.set_size_inches(10,14, forward = True)"
   ]
  },
  {
   "cell_type": "markdown",
   "metadata": {},
   "source": [
    "### Vary Biases"
   ]
  },
  {
   "cell_type": "markdown",
   "metadata": {},
   "source": [
    "## 3D Classifiers"
   ]
  },
  {
   "cell_type": "code",
   "execution_count": null,
   "metadata": {
    "code_folding": [
     0
    ],
    "tags": []
   },
   "outputs": [],
   "source": [
    "# Create set of models from a set of weights and biases\n",
    "\n",
    "weights = [\n",
    "    (1,1,1),\n",
    "    (1,1,-1),\n",
    "    (1,-1,1),\n",
    "    (1,-1,-1),\n",
    "    (-1,1,1),\n",
    "    (-1,1,-1),\n",
    "    (-1,-1,1),\n",
    "    (-1,-1,-1)\n",
    "    \n",
    "]\n",
    "\n",
    "biases = [0,0,0,0,0,0,0,0]\n",
    "\n",
    "model_list = []\n",
    "for i in range(len(weights)):\n",
    "    model_list.append(diffob.Lin_classifier(weights[i], biases[i]))"
   ]
  },
  {
   "cell_type": "code",
   "execution_count": null,
   "metadata": {
    "code_folding": [
     0
    ],
    "tags": []
   },
   "outputs": [],
   "source": [
    "# Create replicates of standard plate with fixed inducer locations (3 inducers)\n",
    "x_dim = 8\n",
    "y_dim = 5\n",
    "\n",
    "ind_list = [\n",
    "    diffob.Diffusor(name = 'A', coordinates=(2,1)),\n",
    "    diffob.Diffusor(name = 'B', coordinates=(4,3)),\n",
    "    diffob.Diffusor(name = 'C', coordinates=(6,1))\n",
    "]\n",
    "\n",
    "plates_list = []\n",
    "\n",
    "for i in range(len(weights)):\n",
    "    # Create plate\n",
    "    plate = diffob.Plate(dim = (x_dim,y_dim))\n",
    "    # Apply inducers\n",
    "    for inducer in ind_list:\n",
    "        plate.apply_inducer(inducer)\n",
    "    # Fill plate with cells from linear classifier model list\n",
    "    plate.add_cells(model = model_list[i])\n",
    "    # Append to list\n",
    "    plates_list.append(plate)\n"
   ]
  },
  {
   "cell_type": "code",
   "execution_count": null,
   "metadata": {
    "code_folding": [
     0
    ]
   },
   "outputs": [],
   "source": [
    "# Create range of values to plot\n",
    "x_range = np.linspace(0,10,100)\n",
    "y_range = x_range\n",
    "\n",
    "fig = plt.figure()\n",
    "# Create a grid\n",
    "gs = fig.add_gridspec(len(plates_list), 2, hspace = 0.3)\n",
    "\n",
    "\n",
    "plate_ind = 0\n",
    "\n",
    "for plate in plates_list:\n",
    "    # Plot plates in first col\n",
    "    ax = fig.add_subplot(gs[plate_ind,0])\n",
    "    plates_list[plate_ind].plot_ind(ax, param_dict={'levels': 50});\n",
    "    plates_list[plate_ind].plot_cells(ax, param_dict = {'alpha': 0.15, 'cmap': 'gist_gray'})\n",
    "    \n",
    "    # Plot Linear classifier models in second col\n",
    "    ax = fig.add_subplot(gs[plate_ind,1], projection='3d')\n",
    "    # Get model from cells in first well\n",
    "    model = plates_list[plate_ind].lattice[0,0].cells.model\n",
    "    model.plot(ax,x_range,y_range)\n",
    "    ax.set_xlabel('x_0')\n",
    "    ax.set_ylabel('x_1')\n",
    "    ax.set_zlabel('x_2')\n",
    "    ax.set_zlim(-20,20)\n",
    "    \n",
    "    plate_ind = plate_ind + 1\n",
    "\n",
    "\n",
    "\n",
    "\n",
    "fig.set_size_inches(10,25, forward = True)"
   ]
  },
  {
   "cell_type": "code",
   "execution_count": null,
   "metadata": {},
   "outputs": [],
   "source": []
  }
 ],
 "metadata": {
  "kernelspec": {
   "display_name": "Python 3",
   "language": "python",
   "name": "python3"
  },
  "language_info": {
   "codemirror_mode": {
    "name": "ipython",
    "version": 3
   },
   "file_extension": ".py",
   "mimetype": "text/x-python",
   "name": "python",
   "nbconvert_exporter": "python",
   "pygments_lexer": "ipython3",
   "version": "3.8.8"
  }
 },
 "nbformat": 4,
 "nbformat_minor": 4
}
