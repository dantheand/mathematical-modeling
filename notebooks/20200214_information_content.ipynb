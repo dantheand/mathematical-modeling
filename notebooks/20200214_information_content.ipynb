{
 "cells": [
  {
   "cell_type": "markdown",
   "metadata": {},
   "source": [
    "# 20200214 Information content approach\n",
    "\n",
    "## Goals\n",
    "* see if the a ratiometric promoter has more \"information content\" than just individual promoters alone"
   ]
  },
  {
   "cell_type": "code",
   "execution_count": null,
   "metadata": {},
   "outputs": [],
   "source": [
    "import numpy as np\n",
    "import matplotlib.pyplot as plt\n",
    "import seaborn as sns\n",
    "sns.set_style('ticks')\n",
    "sns.set_context('poster')"
   ]
  },
  {
   "cell_type": "code",
   "execution_count": null,
   "metadata": {},
   "outputs": [],
   "source": [
    "# Create Hill function, function; takes vector of inputs, returns vector of outputs\n",
    "def hill(x_vals, y_min = 0.005, y_max = 1, kd = 1, n = 2):\n",
    "    outputs = []\n",
    "    for x in x_vals:\n",
    "        out =  y_min+((y_max-y_min)/(1+(kd/x)**n))\n",
    "        outputs.append(out)\n",
    "    return np.array(outputs)"
   ]
  },
  {
   "cell_type": "markdown",
   "metadata": {},
   "source": [
    "## Investigate the information content of single promoters\n",
    "\n",
    "Question to try and answer: \n",
    "* given the output of a promoter, which inducer is present and at what concentration?"
   ]
  },
  {
   "cell_type": "markdown",
   "metadata": {},
   "source": [
    "### CinR / LasRQ simulations\n",
    "* attempt to simulate the transfer functions for CinR / LasRQ promoters from Adam's data\n",
    "* P1 = CinR promoter\n",
    "* P2 = LasRQ promoter\n",
    "* Inducer A = CinR ligand\n",
    "* Inducer B = LasRQ ligand"
   ]
  },
  {
   "cell_type": "code",
   "execution_count": null,
   "metadata": {},
   "outputs": [],
   "source": [
    "# Inducer A, then Inducer B for each promoter\n",
    "xs = np.logspace(-7,0,100)\n",
    "hill_fn_dict = {\n",
    "    'P1':[hill(xs, y_min = 0.02, y_max = 2, kd = 2*10**(-5), n = 2), \n",
    "          hill(xs, y_min = 0.01, y_max = 1, kd = 4*10**(-2), n = 2)],\n",
    "    'P2':[hill(xs, y_min = 0.03, y_max = 1, kd = 9*10**(-2), n = 1), \n",
    "          hill(xs, y_min = 0.03, y_max = 2, kd = 7*10**(-4), n = 1)]\n",
    "}"
   ]
  },
  {
   "cell_type": "code",
   "execution_count": null,
   "metadata": {},
   "outputs": [],
   "source": [
    "# Plot the individual promoter transfer functions and their \"inverse\"\n",
    "\n",
    "# Promoter 1 response\n",
    "# Inducer A\n",
    "p1a = hill_fn_dict['P1'][0]\n",
    "# Inducer B\n",
    "p1b = hill_fn_dict['P1'][1]\n",
    "\n",
    "# Promoter 2 response\n",
    "# Inducer a\n",
    "p2a = hill_fn_dict['P2'][0]\n",
    "# Inducer b\n",
    "p2b = hill_fn_dict['P2'][1]\n",
    "\n",
    "# Plotting\n",
    "# Plot it all\n",
    "fig, axes = plt.subplots(2,2,sharey=False, sharex = False)\n",
    "\n",
    "#p1\n",
    "axes[0,0].plot(xs,p1a,color = \"#984ea3\", linewidth=5)\n",
    "axes[0,0].plot(xs,p1b, color=\"#377eb8\",linewidth=5)\n",
    "axes[0,0].set_ylim([0.005,5])\n",
    "axes[0,0].set_title('P1')\n",
    "\n",
    "#p2\n",
    "axes[0,1].plot(xs,p2a,color = \"#984ea3\", linewidth=5)\n",
    "axes[0,1].plot(xs,p2b,color=\"#377eb8\",linewidth=5)\n",
    "axes[0,1].set_ylim([0.005,5])\n",
    "axes[0,1].set_title('P2')\n",
    "\n",
    "\n",
    "# Now plot inverses\n",
    "\n",
    "#p1\n",
    "axes[1,0].plot(p1a,xs,color = \"#984ea3\", linewidth=5)\n",
    "axes[1,0].plot(p1b,xs, color=\"#377eb8\",linewidth=5)\n",
    "axes[1,0].set_xlim([1e-3,10])\n",
    "axes[1,0].set_ylim([1e-7,1])\n",
    "axes[1,0].set_title('P1 inverse')\n",
    "\n",
    "#p2\n",
    "axes[1,1].plot(p2a,xs,color = \"#984ea3\", linewidth=5)\n",
    "axes[1,1].plot(p2b,xs, color=\"#377eb8\",linewidth=5)\n",
    "axes[1,1].set_xlim([1e-3,10])\n",
    "axes[1,1].set_ylim([1e-7,1])\n",
    "axes[1,1].set_title('P2 inverse')\n",
    "\n",
    "\n",
    "for i in [0,1]:\n",
    "        for j in [0,1]:\n",
    "            axes[i,j].set_xscale('log')\n",
    "            axes[i,j].set_yscale('log')\n",
    "            if i == 0:\n",
    "                axes[i,j].set_ylabel('Output')\n",
    "                axes[i,j].set_xlabel('Input')\n",
    "            if i == 1:\n",
    "                axes[i,j].set_ylabel('Input')\n",
    "                axes[i,j].set_xlabel('Output')\n",
    "                \n",
    "            axes[i,j].legend(['A','B'])\n",
    "\n",
    "#sns.despine()\n",
    "\n",
    "fig.set_size_inches(15,12)\n",
    "fig.tight_layout()\n",
    "fig.subplots_adjust(hspace = 0.5)\n"
   ]
  },
  {
   "cell_type": "markdown",
   "metadata": {},
   "source": [
    "## Calculate input range w/ binary classification thresholds"
   ]
  },
  {
   "cell_type": "code",
   "execution_count": null,
   "metadata": {},
   "outputs": [],
   "source": []
  }
 ],
 "metadata": {
  "kernelspec": {
   "display_name": "Python 3",
   "language": "python",
   "name": "python3"
  },
  "language_info": {
   "codemirror_mode": {
    "name": "ipython",
    "version": 3
   },
   "file_extension": ".py",
   "mimetype": "text/x-python",
   "name": "python",
   "nbconvert_exporter": "python",
   "pygments_lexer": "ipython3",
   "version": "3.7.3"
  }
 },
 "nbformat": 4,
 "nbformat_minor": 2
}
