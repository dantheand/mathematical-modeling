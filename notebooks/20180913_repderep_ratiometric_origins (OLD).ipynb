{
 "cells": [
  {
   "cell_type": "markdown",
   "metadata": {},
   "source": [
    "# 20180913 Repression / Derepression Convergence to Ratiometric"
   ]
  },
  {
   "cell_type": "markdown",
   "metadata": {},
   "source": [
    "# Not sure this is correct... (free promoter equation should be different)\n",
    "* see newer notebook"
   ]
  },
  {
   "cell_type": "markdown",
   "metadata": {},
   "source": [
    "Goal of this notebook is analytically suggest why the rep / derep system converges to $log(derep) - log(rep)$ (ratiometric comparison)"
   ]
  },
  {
   "cell_type": "markdown",
   "metadata": {},
   "source": [
    "## Initial Model"
   ]
  },
  {
   "cell_type": "markdown",
   "metadata": {},
   "source": [
    "Derived before from steady state conditions"
   ]
  },
  {
   "cell_type": "markdown",
   "metadata": {},
   "source": [
    "$$ \\color{red}{\\text{Free promoter}} \\\\ \\color{green}{\\text{Derepression-bound promoter}}$$"
   ]
  },
  {
   "cell_type": "markdown",
   "metadata": {},
   "source": [
    "$$\\text{Output} = \n",
    "    P_{tot} \\bigg( \\color{red}{\\frac{1}{1 + \\frac{g_r}{K_r}}}\n",
    "    + \\color{green}{\\frac{\\alpha}{1 + \\frac{K_d}{g_d} + \\frac{g_r K_d}{g_d K_r}}}\\bigg)\n",
    "$$"
   ]
  },
  {
   "cell_type": "markdown",
   "metadata": {},
   "source": [
    "\\begin{align}\n",
    "P_{tot} &= \\text{total promoter}\\\\\n",
    "g_r &= \\text{repressing gRNA} \\\\\n",
    "g_d &= \\text{derepressing gRNA} \\\\\n",
    "\\alpha &= \\text{repression by derepression gRNA term} \\\\\n",
    "K_r &= \\text{repression gRNA dissociation constant} \\\\\n",
    "K_d &= \\text{derepression gRNA dissociation constant}\n",
    "\\end{align}"
   ]
  },
  {
   "cell_type": "markdown",
   "metadata": {},
   "source": [
    "### Assumption of no free promoter"
   ]
  },
  {
   "cell_type": "markdown",
   "metadata": {},
   "source": [
    "Assuming that there is no free promoter requires that enough repression and derepression gRNAs are present to prevent any free promoter from being available."
   ]
  },
  {
   "cell_type": "markdown",
   "metadata": {},
   "source": [
    "$$P_{free} = 0 =>$$"
   ]
  },
  {
   "cell_type": "markdown",
   "metadata": {},
   "source": [
    "$$\n",
    "\\text{Output} = \n",
    "    P_{tot} \\bigg( \\color{red}{\\frac{1}{1 + \\frac{g_r}{K_r}}}\n",
    "    + \\frac{\\alpha}{1 + \\frac{K_d}{g_d} + \\frac{g_r K_d}{g_d K_r}}\\bigg) \\\\\n",
    "    \\text{Output} = \n",
    "    P_{tot} \\bigg( \\frac{\\alpha}{1 + \\frac{K_d}{g_d} + \\frac{g_r K_d}{g_d K_r}}\\bigg)\n",
    "$$"
   ]
  },
  {
   "cell_type": "markdown",
   "metadata": {},
   "source": [
    "### Assumption of high gRNA concentrations relative to dissociation constants\n",
    "\n",
    "gRNA concentrations are assumed to be much higher than their dissociation constants. This assumption goes hand in hand with the assumption of no free promoter since high concentrations of gRNAs relative to dissociation constants will bind away all promoter. Makes the term go to zero."
   ]
  },
  {
   "cell_type": "markdown",
   "metadata": {},
   "source": [
    "$$ g_d \\gg K_d =>$$"
   ]
  },
  {
   "cell_type": "markdown",
   "metadata": {},
   "source": [
    "$$\\text{Output} = P_{tot} \\bigg( \\frac{\\alpha}{1 + \\color{red}{\\frac{K_d}{g_d}} + \\frac{g_r K_d}{g_d K_r}}\\bigg)\\\\\n",
    "\\text{Output} = P_{tot} \\bigg( \\frac{\\alpha}{1 + \\frac{g_r K_d}{g_d K_r}}\\bigg)\n",
    "$$"
   ]
  },
  {
   "cell_type": "markdown",
   "metadata": {},
   "source": [
    "### Assumption of perfect transcription of derepression-bound promoter\n",
    "\n",
    "If derepression-bound promoters exhibit no repression of transcription, then derepression-bound promoters are just as strong as free promoters. $\\alpha = 1$"
   ]
  },
  {
   "cell_type": "markdown",
   "metadata": {},
   "source": [
    "$$\\text{Output} = P_{tot} \\bigg( \\frac{\\color{red}\\alpha}{1 + \\frac{g_r K_d}{g_d K_r}}\\bigg)\\\\\n",
    "\\text{Output} = P_{tot} \\bigg( \\frac{1}{1 + \\frac{g_r K_d}{g_d K_r}}\\bigg)\n",
    "$$"
   ]
  },
  {
   "cell_type": "markdown",
   "metadata": {},
   "source": [
    "### Multiply Out"
   ]
  },
  {
   "cell_type": "markdown",
   "metadata": {},
   "source": [
    "$$\n",
    "\\text{Output} = P_{tot} \\bigg( \\frac{1}{1 + \\frac{g_r K_d}{g_d K_r}}\\bigg) =  P_{tot} \\bigg( \\frac{g_d K_r}{g_d K_r + g_r K_d}\\bigg)\n",
    "$$"
   ]
  },
  {
   "cell_type": "markdown",
   "metadata": {},
   "source": [
    "### Assumption of identical repression and derepression binding strengths"
   ]
  },
  {
   "cell_type": "markdown",
   "metadata": {},
   "source": [
    "If both derepression gRMA and repression gRNA have the same apparent binding strength."
   ]
  },
  {
   "cell_type": "markdown",
   "metadata": {},
   "source": [
    "$$ K_r = K_d = K$$"
   ]
  },
  {
   "cell_type": "markdown",
   "metadata": {},
   "source": [
    "$$\n",
    " \\text{Output} = P_{tot} \\bigg( \\frac{g_d \\color{red}{K_r}}{g_d \\color{red}{K_r} + g_r \\color{red}{K_d}}\\bigg) = \n",
    "P_{tot} \\bigg( \\frac{g_d K}{g_d K + g_r K}\\bigg) = \n",
    "P_{tot} \\bigg( \\frac{g_d}{g_d + g_r}\\bigg) \n",
    "$$"
   ]
  },
  {
   "cell_type": "markdown",
   "metadata": {},
   "source": [
    "### Assume repression gRNA much higher than derepression gRNA\n",
    "\n",
    "This is the only range in which this whole system works anyways since there must be a base level of repression gRNA to get any \"derepression\""
   ]
  },
  {
   "cell_type": "markdown",
   "metadata": {},
   "source": [
    "$$ g_r \\gg g_d $$"
   ]
  },
  {
   "cell_type": "markdown",
   "metadata": {},
   "source": [
    "$$\n",
    "\\text{Output} = P_{tot} \\bigg( \\frac{g_d}{g_d + g_r}\\bigg) = \n",
    "P_{tot} \\bigg( \\frac{g_d}{g_r}\\bigg)\n",
    "$$"
   ]
  },
  {
   "cell_type": "markdown",
   "metadata": {},
   "source": [
    "Ratiometric!"
   ]
  },
  {
   "cell_type": "markdown",
   "metadata": {},
   "source": [
    "### Log both sides!\n",
    "\n",
    "Also normalize total promoter to 1"
   ]
  },
  {
   "cell_type": "markdown",
   "metadata": {},
   "source": [
    "$$\n",
    "log(\\text{Output}) = log\\bigg( \\frac{g_d}{g_r}\\bigg) = log(g_d) - log (g_r)\n",
    "$$"
   ]
  },
  {
   "cell_type": "markdown",
   "metadata": {},
   "source": [
    "Subtraction in log-log space!"
   ]
  },
  {
   "cell_type": "markdown",
   "metadata": {},
   "source": [
    "## Main Assumptions\n",
    "* high gRNA concentrations relative to dissociation constants\n",
    "* no free promoter\n",
    "* repression gRNA in much higher concentrations than derepression gRNA"
   ]
  },
  {
   "cell_type": "code",
   "execution_count": null,
   "metadata": {
    "jupyter": {
     "outputs_hidden": true
    }
   },
   "outputs": [],
   "source": []
  }
 ],
 "metadata": {
  "kernelspec": {
   "display_name": "Python 3",
   "language": "python",
   "name": "python3"
  },
  "language_info": {
   "codemirror_mode": {
    "name": "ipython",
    "version": 3
   },
   "file_extension": ".py",
   "mimetype": "text/x-python",
   "name": "python",
   "nbconvert_exporter": "python",
   "pygments_lexer": "ipython3",
   "version": "3.8.8"
  }
 },
 "nbformat": 4,
 "nbformat_minor": 4
}
