{
 "cells": [
  {
   "cell_type": "markdown",
   "metadata": {},
   "source": [
    "# 20181010 Cellular Consortia Growth\n",
    "\n",
    "### Goal\n",
    "* define how easy / hard it will be to maintain multiple cells in the same culture given that they're growing at different rates\n",
    "\n",
    "### Experimental Conditions\n",
    "* exponential growth in liquid culture\n",
    "\n",
    "### Approach\n",
    "* Do simple dynamical simulations of cells growing at different rates in exponential phase\n",
    "* analyze how much their population proportions vary in the culture\n",
    "\n",
    "### Basic equation(s)\n",
    "\n",
    "$$ x(t) = x_0 2^{t / T} $$\n",
    "\n",
    "Where $T$ is the doubling time."
   ]
  },
  {
   "cell_type": "markdown",
   "metadata": {},
   "source": [
    "## Findings\n",
    "* the fastest growing strain in a turbidostat will quickly overtake the rest of the population\n",
    "* won't be able to just mix them all together"
   ]
  },
  {
   "cell_type": "code",
   "execution_count": null,
   "metadata": {},
   "outputs": [],
   "source": [
    "import matplotlib.pyplot as plt\n",
    "%matplotlib notebook\n",
    "\n",
    "import numpy as np\n",
    "import scipy as sp\n",
    "import scipy.integrate"
   ]
  },
  {
   "cell_type": "markdown",
   "metadata": {},
   "source": [
    "## Model Differential Growth Rates in Exponential\n",
    "* model how different doubling times will diverge"
   ]
  },
  {
   "cell_type": "code",
   "execution_count": null,
   "metadata": {
    "code_folding": [
     0
    ]
   },
   "outputs": [],
   "source": [
    "# Define exponential growth function\n",
    "\n",
    "def exp_gr(time,dbl_time):\n",
    "    return "
   ]
  },
  {
   "cell_type": "code",
   "execution_count": null,
   "metadata": {
    "code_folding": [
     0
    ]
   },
   "outputs": [],
   "source": [
    "# Create set of doubling times (in minutes)\n",
    "dbl_ts = np.linspace(20,35,10)\n",
    "\n",
    "# timespan of interest (in minutes)\n",
    "t_span = np.linspace(0,300,100)\n",
    "\n",
    "x_0 = 0.001"
   ]
  },
  {
   "cell_type": "code",
   "execution_count": null,
   "metadata": {
    "code_folding": [
     0
    ]
   },
   "outputs": [],
   "source": [
    "# Create data structure to store growth data; Cols are dbling times; rows are time\n",
    "growth_data = np.zeros((len(t_span), len(dbl_ts)))\n",
    "\n",
    "# for loop to get the data\n",
    "j = 0\n",
    "for dbl_t in dbl_ts:\n",
    "    i = 0\n",
    "    for t in t_span:\n",
    "        growth_data[i,j] = x_0 * 2**(t/dbl_t)\n",
    "        i = i + 1\n",
    "    j = j + 1"
   ]
  },
  {
   "cell_type": "code",
   "execution_count": null,
   "metadata": {
    "code_folding": [
     0
    ]
   },
   "outputs": [],
   "source": [
    "# Plot them\n",
    "fig, ax = plt.subplots()\n",
    "\n",
    "i = 0\n",
    "for dbl_t in dbl_ts:\n",
    "    ax.plot(t_span, growth_data[:,i], label = dbl_t)\n",
    "    i = i + 1\n",
    "    \n",
    "plt.xlabel('Time (min)')\n",
    "plt.ylabel('OD')\n",
    "plt.legend(title='Doubling time');"
   ]
  },
  {
   "cell_type": "markdown",
   "metadata": {},
   "source": [
    "### Results\n",
    "* They diverge quite a bit, but this doesn't exactly replicate what would occur in a turbidostat with dilution dependent on total OD"
   ]
  },
  {
   "cell_type": "markdown",
   "metadata": {},
   "source": [
    "## Model Differential Growths in Turbidostat\n",
    "* set a dilution rate such at that the SUM of all the ODs of the strains is constant\n",
    "* initialize with different growth rates and initial concentrations\n",
    "* set 4 different cell types"
   ]
  },
  {
   "cell_type": "markdown",
   "metadata": {},
   "source": [
    "### Proportional Feedback control\n",
    "* utilize proportional feedback control\n",
    "\n",
    "For a given strain concentration, $x_i$, with growth rate $\\phi_i$, the dynamics will be:\n",
    "\n",
    "$$\\dot{x_i} = \\phi_i x_i - x_i u$$\n",
    "\n",
    "Where $u$ is the feedback controller input with reference value $r$:\n",
    "\n",
    "$$ u = k_p (x_{tot} - r)$$\n",
    "\n",
    "Note that feedback control is actuated on the TOTAL concentration of all strains $x_{tot} = \\sum x_i$\n",
    "\n",
    "$\\phi_i$ relation to doubling time $T_i$:\n",
    "\n",
    "$$ \\phi_i = ln(2) / T_i$$"
   ]
  },
  {
   "cell_type": "markdown",
   "metadata": {},
   "source": [
    "### Single strain control\n",
    "Figure out a good proportional feedback control gain by simulating a single strain.\n",
    "\n",
    "#### System\n",
    "\n",
    "$$\\dot{x} = \\phi x - x k_p(x-r)$$\n",
    "\n",
    "Must set a constraint such that if desired value is below the reference, the input cannot ADD growth rate. Piecewise: If $x < r$, then $u = 0$, otherwise: $ u = k_p(x-r)$"
   ]
  },
  {
   "cell_type": "code",
   "execution_count": null,
   "metadata": {
    "code_folding": []
   },
   "outputs": [],
   "source": [
    "def ode_sys(t,x,params):\n",
    "    # Calculate input (make sure it can't be positive)\n",
    "    err = x[0] - params['r']\n",
    "    if err > 0:\n",
    "        u = params['k_p']*err\n",
    "    else:\n",
    "        u = 0\n",
    "    \n",
    "    x_dot = params['phi']*x[0] - x[0]*(u)\n",
    "    return x_dot"
   ]
  },
  {
   "cell_type": "markdown",
   "metadata": {},
   "source": [
    "#### Simulation"
   ]
  },
  {
   "cell_type": "code",
   "execution_count": null,
   "metadata": {
    "code_folding": []
   },
   "outputs": [],
   "source": [
    "# Set system parameters\n",
    "dbl_t = 30 # minutes\n",
    "growth_r = np.log(2)/dbl_t\n",
    "params = {'phi': growth_r,\n",
    "          'k_p': 1,\n",
    "          'r': 0.5}\n",
    "\n",
    "# Set ODE parameters\n",
    "t_span = (0,300) # minutes\n",
    "x0 = [0.4]\n",
    "\n",
    "x_sol = sp.integrate.solve_ivp(fun = lambda t,y: ode_sys(t,y,params),t_span = t_span,y0=x0, max_step = 1)"
   ]
  },
  {
   "cell_type": "markdown",
   "metadata": {},
   "source": [
    "#### Plot"
   ]
  },
  {
   "cell_type": "code",
   "execution_count": null,
   "metadata": {},
   "outputs": [],
   "source": [
    "fig, ax = plt.subplots()\n",
    "\n",
    "ax.plot(x_sol.t,x_sol.y[0]);\n",
    "ax.set_xlabel('Time (min)')\n",
    "ax.set_ylabel('OD');"
   ]
  },
  {
   "cell_type": "markdown",
   "metadata": {},
   "source": [
    "#### Results\n",
    "* theres a steady-state error (of course, its only P control)\n",
    "* try to use integral control as well"
   ]
  },
  {
   "cell_type": "markdown",
   "metadata": {},
   "source": [
    "## PI Control\n",
    "\n",
    "Must add new dynamics term $z$ to store the error over time:\n",
    "\n",
    "$$\\dot{z} = x_{tot} - r = e$$\n",
    "\n",
    "Now the new input term:\n",
    "\n",
    "$$u = k_p e + k_i \\int_{0}^t e d\\tau = k_p e + k_i z $$"
   ]
  },
  {
   "cell_type": "markdown",
   "metadata": {},
   "source": [
    "### Single strain\n",
    "\n",
    "#### System\n",
    "\n",
    "\\begin{align}\n",
    "\\dot{x} &= \\phi x - x (k_p(x-r) + k_i z)\\\\\n",
    "\\dot{z} &= x -r\n",
    "\\end{align}"
   ]
  },
  {
   "cell_type": "code",
   "execution_count": null,
   "metadata": {
    "code_folding": []
   },
   "outputs": [],
   "source": [
    "def ode_sys(t,x,params):\n",
    "    # Calculate input (make sure it can't be positive)\n",
    "    err = x[0] - params['r']\n",
    "    u = params['k_p']*err + params['k_i']*x[1]\n",
    "    if u < 0:\n",
    "        u = 0\n",
    "    \n",
    "    x_dot = params['phi']*x[0] - x[0]*(u)\n",
    "    z_dot = x[0] - params['r']\n",
    "    \n",
    "    return [x_dot,z_dot]"
   ]
  },
  {
   "cell_type": "code",
   "execution_count": null,
   "metadata": {
    "code_folding": []
   },
   "outputs": [],
   "source": [
    "# Set system parameters\n",
    "dbl_t = 40 # minutes\n",
    "growth_r = np.log(2)/dbl_t\n",
    "params = {'phi': growth_r,\n",
    "          'k_p': 0.5,\n",
    "          'k_i': .1,\n",
    "          'r': 0.3}\n",
    "\n",
    "# Set ODE parameters\n",
    "t_span = (0,500) # minutes\n",
    "x0 = [0.3,0]\n",
    "\n",
    "x_sol = sp.integrate.solve_ivp(fun = lambda t,y: ode_sys(t,y,params),t_span = t_span,y0=x0, max_step = 0.1)"
   ]
  },
  {
   "cell_type": "markdown",
   "metadata": {},
   "source": [
    "#### Plot"
   ]
  },
  {
   "cell_type": "code",
   "execution_count": null,
   "metadata": {
    "code_folding": []
   },
   "outputs": [],
   "source": [
    "# Plot it\n",
    "fig, axes = plt.subplots(4,1, sharex = True)\n",
    "\n",
    "axes[0].plot(x_sol.t,x_sol.y[0]);\n",
    "axes[0].set_ylabel('OD')\n",
    "\n",
    "axes[1].plot(x_sol.t,params['k_p']*(x_sol.y[0] - params['r']));\n",
    "axes[1].set_ylabel('P term')\n",
    "\n",
    "axes[2].plot(x_sol.t,params['k_i']*(x_sol.y[1]))\n",
    "axes[2].set_ylabel('I term')\n",
    "\n",
    "axes[3].plot(x_sol.t,(params['k_p']*(x_sol.y[0] - params['r']) + params['k_i']*(x_sol.y[1])))\n",
    "axes[3].set_ylabel('input')\n",
    "axes[3].set_xlabel('Time (min)');\n",
    "\n",
    "axes[0].axhline(params['r'], linestyle=':',color='k');"
   ]
  },
  {
   "cell_type": "markdown",
   "metadata": {},
   "source": [
    "#### Results\n",
    "* have a controller with parameters that get the OD value to the setpoint pretty well (a bit of integrator windup but that's hard to avoid)"
   ]
  },
  {
   "cell_type": "markdown",
   "metadata": {},
   "source": [
    "### Multiple strains\n",
    "* each strain (let there be 4) has its own growth rate\n",
    "* actuatation of the system is based on the total OD of the system ($x_{tot}$)"
   ]
  },
  {
   "cell_type": "markdown",
   "metadata": {},
   "source": [
    "#### System\n",
    "\n",
    "\\begin{align}\n",
    "\\dot{x_i} &= \\phi_i x_i - x_i (k_p(x_{tot}-r) + k_i z)\\\\\n",
    "\\dot{z} &= x_{tot} -r\n",
    "\\end{align}"
   ]
  },
  {
   "cell_type": "code",
   "execution_count": null,
   "metadata": {
    "code_folding": []
   },
   "outputs": [],
   "source": [
    "def ode_sys(t,x,params):\n",
    "    # Calculate input (make sure it can't be positive)\n",
    "    ref, k_i, k_p, phi, z = params['r'], params['k_i'], params['k_p'], params['phi'], x[-1]\n",
    "\n",
    "    err = sum(x[0:3]) - ref\n",
    "    u = k_p*err + k_i*z\n",
    "    if u < 0:\n",
    "        u = 0\n",
    "    \n",
    "    x0_dot = phi[0]*x[0] - x[0]*(u)\n",
    "    x1_dot = phi[1]*x[1] - x[1]*(u)\n",
    "    x2_dot = phi[2]*x[2] - x[2]*(u)\n",
    "    x3_dot = phi[3]*x[3] - x[3]*(u)\n",
    "    z_dot = err\n",
    "    \n",
    "    return [x0_dot,x1_dot,x2_dot,x3_dot,z_dot]"
   ]
  },
  {
   "cell_type": "code",
   "execution_count": null,
   "metadata": {
    "code_folding": []
   },
   "outputs": [],
   "source": [
    "# Set system parameters\n",
    "dbl_ts = [38,39,40,41] # minutes\n",
    "growth_r = np.log(2)/dbl_ts\n",
    "params = {'phi': growth_r,\n",
    "          'k_p': .5,\n",
    "          'k_i': .1,\n",
    "          'r': 0.4} # reference value\n",
    "\n",
    "\n",
    "# Set ODE parameters\n",
    "t_span = (0,1000) # minutes\n",
    "x0 = [0.12,0.12,0.12,0.12,0] # initial values\n",
    "\n",
    "x_sol = sp.integrate.solve_ivp(fun = lambda t,y: ode_sys(t,y,params),t_span = t_span,y0=x0, max_step = 0.1)"
   ]
  },
  {
   "cell_type": "code",
   "execution_count": null,
   "metadata": {
    "code_folding": []
   },
   "outputs": [],
   "source": [
    "# Plot it\n",
    "fig, ax = plt.subplots()\n",
    "ax.plot(x_sol.t,x_sol.y[0],x_sol.t,x_sol.y[1],x_sol.t,x_sol.y[2],x_sol.t,x_sol.y[3]);\n",
    "ax.set_xlabel('Time (min)')\n",
    "ax.set_ylabel('OD')\n",
    "ax.axhline(params['r']/4, linestyle=':',color='k', label=\"reference\")\n",
    "ax.legend(dbl_ts + ['reference'], title=\"Doubling time\");"
   ]
  },
  {
   "cell_type": "markdown",
   "metadata": {},
   "source": [
    "#### Results\n",
    "* even with doubling times only a minute apart, the fastest growing cells quickly take over\n",
    "* this won't work if all cells are just mixed in at the beginning\n",
    "* also for some reason I'm not defining the reference correctly, but that doesn't really matter"
   ]
  },
  {
   "cell_type": "markdown",
   "metadata": {},
   "source": [
    "## Bounding OD Values\n",
    "* instead of using PI controllers to control, try setting upper and lower OD values\n",
    "* when culture reaches upper OD, begin dilution until it reaches lower OD value\n",
    "* repeat"
   ]
  },
  {
   "cell_type": "code",
   "execution_count": null,
   "metadata": {},
   "outputs": [],
   "source": []
  }
 ],
 "metadata": {
  "kernelspec": {
   "display_name": "Python [default]",
   "language": "python",
   "name": "python3"
  },
  "language_info": {
   "codemirror_mode": {
    "name": "ipython",
    "version": 3
   },
   "file_extension": ".py",
   "mimetype": "text/x-python",
   "name": "python",
   "nbconvert_exporter": "python",
   "pygments_lexer": "ipython3",
   "version": "3.6.6"
  }
 },
 "nbformat": 4,
 "nbformat_minor": 2
}
