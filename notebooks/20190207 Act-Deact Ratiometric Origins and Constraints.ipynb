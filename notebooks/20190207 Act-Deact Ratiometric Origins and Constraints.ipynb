{
 "cells": [
  {
   "cell_type": "markdown",
   "metadata": {},
   "source": [
    "# 20190207 Origins of Ratiometric Response in Act / Deact"
   ]
  },
  {
   "cell_type": "markdown",
   "metadata": {},
   "source": [
    "* These results are confirmed numerically in Mathematica notebook 20180430_act_deact.nb"
   ]
  },
  {
   "cell_type": "markdown",
   "metadata": {},
   "source": [
    "## Main findings\n",
    "* like rep / derep, origins of ratiometric response can be found analytically from steady-state model\n",
    "* ratiometric performance depends on $K_r$, $K_a$, and $g_r$\n",
    "* same limitations as rep / derep for ratios >1\n",
    "* Act / deact behaves more ratiometric than rep / derep due to the fact that there is no transcription from a free promoter\n",
    "\n",
    "## Future questions\n",
    "* how does this work with leaky expression\n",
    "* what does it look like with constitutive production of $g_r$"
   ]
  },
  {
   "cell_type": "markdown",
   "metadata": {},
   "source": [
    "## Ratiometric origins\n",
    "\n",
    "### The Model\n",
    "* basically the same as the rep / derep but without the free promoter term (free promoter isn't activated)\n",
    "\n",
    "$$\\text{Output} = \n",
    "    P_{tot} \\bigg({\\frac{1}{1 + \\frac{K_a}{g_a} + \\frac{g_r K_a}{g_a K_r}}}\\bigg)\n",
    "$$\n",
    "\n",
    "\\begin{align}\n",
    "P_{tot} &= \\text{total promoter}\\\\\n",
    "g_r &= \\text{repressing gRNA} \\\\\n",
    "g_a &= \\text{activating gRNA} \\\\\n",
    "K_r &= \\text{repression gRNA dissociation constant} \\\\\n",
    "K_a &= \\text{activation gRNA dissociation constant}\n",
    "\\end{align}"
   ]
  },
  {
   "cell_type": "markdown",
   "metadata": {},
   "source": [
    "### Define $\\rho$ as ratio between inputs\n",
    "Want to find the case(s) where the output is proportional to the ratio, $\\rho$\n",
    "\n",
    "$$ \\rho = \\frac{g_a}{g_r} $$"
   ]
  },
  {
   "cell_type": "markdown",
   "metadata": {},
   "source": [
    "Multiply the output equation by $\\rho / \\rho$:"
   ]
  },
  {
   "cell_type": "markdown",
   "metadata": {},
   "source": [
    "$$\n",
    "(1)\n",
    "\\text{Output} =  P_{tot} \\bigg({\\frac{\\rho}{\\rho + \\rho \\frac{K_d}{g_a} + \\rho \\frac{g_r K_a}{g_a K_r}}}\\bigg)\n",
    "$$"
   ]
  },
  {
   "cell_type": "markdown",
   "metadata": {},
   "source": [
    "Factor $\\rho$ and substitute in its definition:"
   ]
  },
  {
   "cell_type": "markdown",
   "metadata": {},
   "source": [
    "$$\\text{Output (Act/Deact)} = \n",
    "    P_{tot} \\bigg({\\frac{\\rho}{\\rho(1 + \\frac{K_a}{g_a}) + \\frac{K_a}{K_r}}}\\bigg)\n",
    "$$"
   ]
  },
  {
   "cell_type": "markdown",
   "metadata": {},
   "source": [
    "### Parameter requirements for ratiometric comparison"
   ]
  },
  {
   "cell_type": "markdown",
   "metadata": {},
   "source": [
    "For the output to be proportional to $\\rho$, the denominator of each term must have its dependency on $\\rho$ removed. This occurs when:\n",
    "\n",
    "$$ \\rho \\big(1 + \\frac{K_a}{g_a}\\big) << \\frac{K_a}{K_r}$$\n"
   ]
  },
  {
   "cell_type": "markdown",
   "metadata": {},
   "source": [
    "This is the same constraint as constraint $(2)$ in the rep-derep ratiometric origins. "
   ]
  },
  {
   "cell_type": "markdown",
   "metadata": {},
   "source": [
    "## Basic findings\n",
    "See the analysis in 20190117 Rep-Derep Ratiometric origins Jupyter notebook.\n",
    "\n",
    "* ratiometric regime is constrained below 1 if $K_a = K_r$\n",
    "* ratiometric regime expands when $K_a$ and $K_r$ are allowed to be different\n",
    "* also act / deact behaves better because it doesn't have transcription from the free promoter"
   ]
  }
 ],
 "metadata": {
  "kernelspec": {
   "display_name": "Python [default]",
   "language": "python",
   "name": "python3"
  },
  "language_info": {
   "codemirror_mode": {
    "name": "ipython",
    "version": 3
   },
   "file_extension": ".py",
   "mimetype": "text/x-python",
   "name": "python",
   "nbconvert_exporter": "python",
   "pygments_lexer": "ipython3",
   "version": "3.6.6"
  }
 },
 "nbformat": 4,
 "nbformat_minor": 2
}
