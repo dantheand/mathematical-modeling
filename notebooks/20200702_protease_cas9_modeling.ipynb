{
 "cells": [
  {
   "cell_type": "markdown",
   "metadata": {},
   "source": [
    "# 20200702 dCas9 protease ODE modeling\n",
    "\n",
    "## Goals of notebook\n",
    "* see if assumptions in analytical enzyme equation solutions are valid\n",
    "    * specifically: michaelis-menten and inhibitor equations\n",
    "* establish relationship between $K_I$, expression of peptide, and survival in a selection\n",
    "* try to map model results to more familiar Michaelis-Menten kinetics equations\n",
    "\n",
    "### Assumptions\n",
    "\n",
    "#### Quasi steady-state assumption\n",
    "\n",
    "$ k_f [E] [S] = k_r [ES] + k_{cat} [ES] = (k_r + k_{cat})[ES] $\n",
    "* assumes concentration of intermediate complex does not change on the time-scale fo product formation\n",
    "* this is where $K_M$ is derived from\n",
    "\n",
    "#### Thoughts on initial velocity vs steady-state\n",
    "* is there a requirement when using velocity derivations for there to be a big discrepancy between $[E]$ and $[S]$??\n",
    "    * or does this requirement just stem from in vitro enzyme work where substrate is depleted\n",
    "* e.g. being in an exponentially-dividing cell will cause everything to reach a steady-state\n",
    "* steady-state values will probably be modified by cell division rates as another $k_{off}$ term"
   ]
  },
  {
   "cell_type": "markdown",
   "metadata": {},
   "source": [
    "## ODE model\n",
    "$$\n",
    "\\begin{align}\n",
    "\\dot{c} & = \\sigma(y-x) \\\\\n",
    "\\dot{y} & = \\rho x - y - xz \\\\\n",
    "\\dot{z} & = -\\beta z + xy\n",
    "\\end{align}\n",
    "$$\n",
    "\n",
    "### Output promoter activity\n",
    "\n",
    "$$ Out = REU_{max} \\frac{K}{K + u} $$\n",
    "\n",
    "Where: $$K = \\frac{k_{dbl}}{k_a} = \\frac{ln(2)/T}{k_a}$$\n",
    "\n",
    "$T$ is the doubling time of E. coli. $k_a$ is the molecular association rate of dCas9 to a promoter. For a doubling time of $T=45 \\text{ min}$, and the $k_a$ derived from https://science.sciencemag.org/content/357/6358/1420:\n",
    "\n",
    "$$ K = 5.31 \\text{ molecules} $$\n",
    "\n",
    "#### Validation\n",
    "\n",
    "If $K = 5.31 \\text{ molecules}$, then 500 molecules in the cell should create a fraction free promoter of 0.01 => 2-orders of magnitude repression (which is exactly what we see).\n",
    "\n",
    "#### Assumptions\n",
    "* Note that $u$ is the free uncaged Cas9. We can assume this is equal to the total uncaged Cas9 (and therefore promoter binding doesn't affect the steady-state value of uncaged Cas9) when $K << u$. Which is the case when protease is fully repressed and there's tons of free uncaged Cas9 (up to 500 molecules according to Shuyi's numbers)"
   ]
  },
  {
   "cell_type": "code",
   "execution_count": null,
   "metadata": {},
   "outputs": [],
   "source": []
  },
  {
   "cell_type": "code",
   "execution_count": null,
   "metadata": {},
   "outputs": [],
   "source": []
  }
 ],
 "metadata": {
  "kernelspec": {
   "display_name": "Python 3",
   "language": "python",
   "name": "python3"
  },
  "language_info": {
   "codemirror_mode": {
    "name": "ipython",
    "version": 3
   },
   "file_extension": ".py",
   "mimetype": "text/x-python",
   "name": "python",
   "nbconvert_exporter": "python",
   "pygments_lexer": "ipython3",
   "version": "3.6.7"
  }
 },
 "nbformat": 4,
 "nbformat_minor": 4
}
