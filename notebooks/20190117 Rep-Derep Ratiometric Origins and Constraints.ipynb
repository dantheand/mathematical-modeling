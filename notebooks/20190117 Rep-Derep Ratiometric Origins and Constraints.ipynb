{
 "cells": [
  {
   "cell_type": "markdown",
   "metadata": {},
   "source": [
    "# 20190117 Rep/Derep Ratiometric Origins and Constraints\n",
    "\n",
    "## Main findings\n",
    "* Origins of ratiometric comparison of repression / derepression gRNAs can be found analytically\n",
    "* Ratiometric performance depends on $g_d$, $K_d$, and $K_r$ values\n",
    "* When $K_d = K_r$ the ratiometric circuit is limited to only work below a ratio of 1\n",
    "* If $K_d >> K_r$, ratiometric performance goes above 1, but dynamic range is reduced\n",
    "* transcription from the free promoter term spoils the ratiometric response (because it is dependent on $g_r$\n",
    "* maximum $\\rho$ ($\\rho^+$) and minimum $g_d$ ($g_d^-$) have relationships to parameters\n",
    "    * possibly can define $\\rho^+$ with only $K_d$ and $K_r$\n",
    "    * need to check this with Domitilla to make sure this is a real constraint\n",
    "\n",
    "This can all be checked with the 20180131 Mathematica notebook"
   ]
  },
  {
   "cell_type": "markdown",
   "metadata": {},
   "source": [
    "## Ratiometric origins"
   ]
  },
  {
   "cell_type": "markdown",
   "metadata": {},
   "source": [
    "$$\\text{Output} = \n",
    "    P_{tot} \\bigg({\\frac{1}{1 + \\frac{g_d}{K_d} + \\frac{g_r}{K_r}}}\n",
    "    + {\\frac{\\alpha}{1 + \\frac{K_d}{g_d} + \\frac{g_r K_d}{g_d K_r}}}\\bigg)\n",
    "$$\n",
    "\n",
    "\\begin{align}\n",
    "g_a &= \\text{activating gRNA} \\\\\n",
    "g_r &= \\text{repressing gRNA} \\\\\n",
    "g_d &= \\text{derepressing gRNA} \\\\\n",
    "\\rho &= \\frac{g_d}{g_r} = \\frac{g_a}{g_r}\\\\\n",
    "P_{tot} &= \\text{total promoter}\\\\\n",
    "\\alpha &= \\text{derepression repression factor} \\\\\n",
    "K_r &= \\text{repression gRNA dissociation constant} \\\\\n",
    "K_d &= \\text{derepression gRNA dissociation constant} \\\\\n",
    "K_a &= \\text{activation gRNA dissociation constant}\n",
    "\\end{align}"
   ]
  },
  {
   "cell_type": "markdown",
   "metadata": {},
   "source": [
    "### Define $\\rho$ as ratio between inputs\n",
    "Want to find the case(s) where the output is proportional to the ratio, $\\rho$\n",
    "\n",
    "$$ \\rho = \\frac{g_d}{g_r} $$"
   ]
  },
  {
   "cell_type": "markdown",
   "metadata": {},
   "source": [
    "Multiply output equation by $\\rho / \\rho$:"
   ]
  },
  {
   "cell_type": "markdown",
   "metadata": {},
   "source": [
    "$$\\text{Output} = \n",
    "    P_{tot} \\bigg({\\frac{\\rho}{\\rho + \\rho \\frac{g_d}{K_d} + \\frac{g_d}{K_r}}}\n",
    "    + {\\frac{\\alpha \\rho}{\\rho + \\rho \\frac{K_d}{g_d} + \\frac{K_d}{K_r}}}\\bigg)\n",
    "$$"
   ]
  },
  {
   "cell_type": "markdown",
   "metadata": {},
   "source": [
    "Factor $\\rho$:"
   ]
  },
  {
   "cell_type": "markdown",
   "metadata": {},
   "source": [
    "$$\n",
    "\\text{Output (Rep/Derep)}=\n",
    "    P_{tot} \\bigg({\\frac{\\rho}{\\rho \\big( 1 + \\frac{g_d}{K_d}\\big) + \\frac{g_d}{K_r}}}\n",
    "    + {\\frac{\\alpha \\rho}{\\rho \\big(1 + \\frac{K_d}{g_d}\\big) + \\frac{K_d}{K_r}}}\\bigg)\n",
    "$$"
   ]
  },
  {
   "cell_type": "markdown",
   "metadata": {},
   "source": [
    "### Parameter requirements for ratiometric comparison"
   ]
  },
  {
   "cell_type": "markdown",
   "metadata": {},
   "source": [
    "For the output to be proportional to $\\rho$, the denominator of each term must have its dependency on $\\rho$ removed. This occurs when the two cases are satisfed:\n",
    "\n",
    "From the first term:\n",
    "$$ \\text{(1)}:  \\rho \\big( 1 + \\frac{g_d}{K_d}\\big)  << \\frac{g_d}{K_r}$$ \n",
    "\n",
    "From the second term:\n",
    "\n",
    "$$ \\text{(2)}: \\rho \\big(1 + \\frac{K_d}{g_d}\\big) << \\frac{K_d}{K_r}$$\n"
   ]
  },
  {
   "cell_type": "markdown",
   "metadata": {},
   "source": [
    "To understand the constraints on the ratio as a function of the parameters, factor cases to be in terms of ratio:"
   ]
  },
  {
   "cell_type": "markdown",
   "metadata": {},
   "source": [
    "\n",
    "$$ \\text{(1)}:  \\rho   << \\frac{\\frac{g_d}{K_r}}{\\big( 1 + \\frac{g_d}{K_d}\\big)}$$ \n",
    "\n",
    "$$ \\text{(2)}: \\rho  << \\frac{\\frac{K_d}{K_r}}{\\big(1 + \\frac{K_d}{g_d}\\big)}$$"
   ]
  },
  {
   "cell_type": "markdown",
   "metadata": {},
   "source": [
    "Both constraints on $\\rho$ (1) and (2) simplify to the same term:"
   ]
  },
  {
   "cell_type": "markdown",
   "metadata": {},
   "source": [
    "$$ \n",
    "\\frac{\\frac{g_d}{K_r}}{\\big( 1 + \\frac{g_d}{K_d}\\big)} = \n",
    "\\frac{\\frac{K_d}{K_r}}{\\big(1 + \\frac{K_d}{g_d}\\big)} =\n",
    "\\frac{1}{\\frac{K_r}{g_d} + \\frac{K_r}{K_d}}\n",
    "=> \\rho^+ << \\frac{1}{\\frac{K_r}{g_d^-} + \\frac{K_r}{K_d}}\n",
    "$$\n",
    "\n"
   ]
  },
  {
   "cell_type": "markdown",
   "metadata": {},
   "source": [
    "## Ratiometric regime is constrained below 1 if $K_d = K_r$"
   ]
  },
  {
   "cell_type": "markdown",
   "metadata": {},
   "source": [
    "If $K_d = K_r = K$, then the ratio constraint is:\n",
    "\n",
    "$$ \\rho^+ << \\frac{1}{\\frac{K}{g_d^-} + 1} $$"
   ]
  },
  {
   "cell_type": "markdown",
   "metadata": {},
   "source": [
    "The right side can never be larger than 1.\n",
    "\n",
    "Which means the only regime in which the output will be proportional to the ratio is when the ratio is much less than 1. This is a fundamental constraint if the gRNA dissociation constants are the same."
   ]
  },
  {
   "cell_type": "markdown",
   "metadata": {},
   "source": [
    "## Ratiometric regime expands when $K_d$ and $K_r$ are allowed to be different"
   ]
  },
  {
   "cell_type": "markdown",
   "metadata": {},
   "source": [
    "$$\\rho << \\frac{1}{\\frac{K_r}{g_d} + \\frac{K_r}{K_d}}$$"
   ]
  },
  {
   "cell_type": "markdown",
   "metadata": {},
   "source": [
    "RHS can be greater than 1 if:\n",
    "$$\\frac{K_r}{g_d} + \\frac{K_r}{K_d} < 1$$"
   ]
  },
  {
   "cell_type": "markdown",
   "metadata": {},
   "source": [
    "This can be accomplished if we make $K_d$ large and $K_r$ small OR $g_d$ large...  however:"
   ]
  },
  {
   "cell_type": "markdown",
   "metadata": {},
   "source": [
    "## Output is reduced for large $K_d$ and small $K_r$"
   ]
  },
  {
   "cell_type": "markdown",
   "metadata": {},
   "source": [
    "Recall the output is:"
   ]
  },
  {
   "cell_type": "markdown",
   "metadata": {},
   "source": [
    "$$\\text{Output} = \n",
    "    P_{tot} \\bigg({\\frac{\\rho}{\\rho \\big( 1 + \\frac{g_d}{K_d}\\big) + \\frac{g_d}{K_r}}}\n",
    "    + {\\frac{\\alpha \\rho}{\\rho \\big(1 + \\frac{K_d}{g_d}\\big) + \\frac{K_d}{K_r}}}\\bigg)\n",
    "$$"
   ]
  },
  {
   "cell_type": "markdown",
   "metadata": {},
   "source": [
    "If we are in the correct regime for ratiometric comparisons:"
   ]
  },
  {
   "cell_type": "markdown",
   "metadata": {},
   "source": [
    "$$ \\rho \\big( 1 + \\frac{g_d}{K_d}\\big)  << \\frac{g_d}{K_r}$$ \n",
    "\n",
    "AND\n",
    "\n",
    "$$ \\rho \\big(1 + \\frac{K_d}{g_d}\\big) << \\frac{K_d}{K_r}$$\n",
    "\n",
    "(This is actually just one constraint as shown above)"
   ]
  },
  {
   "cell_type": "markdown",
   "metadata": {},
   "source": [
    "Then,"
   ]
  },
  {
   "cell_type": "markdown",
   "metadata": {},
   "source": [
    "$$\\text{Output} \\approx \n",
    "    P_{tot} \\bigg({\\frac{\\rho}{\\frac{g_d}{K_r}}}\n",
    "    + {\\frac{\\alpha \\rho}{\\frac{K_d}{K_r}}}\\bigg)\n",
    "$$"
   ]
  },
  {
   "cell_type": "markdown",
   "metadata": {},
   "source": [
    "It can be seen that increasing $K_d$ and reducing $K_r$ will reduce the overall magnitude of the output (lowers the slope of the ratiometric comparison)."
   ]
  },
  {
   "cell_type": "markdown",
   "metadata": {},
   "source": [
    "## Why Act / Deact has a better ratiometric response"
   ]
  },
  {
   "cell_type": "markdown",
   "metadata": {},
   "source": [
    "From above, in the correct parameter range for ratiometric response, the output of the rep/derep circuit is:\n",
    "\n",
    "$$\\text{Output} \\approx \n",
    "    P_{tot} \\bigg({\\frac{\\rho}{\\frac{g_d}{K_r}}}\n",
    "    + {\\frac{\\alpha \\rho}{\\frac{K_d}{K_r}}}\\bigg)\n",
    "$$\n",
    "\n",
    "Substituting in the definition of $\\rho$:\n",
    "\n",
    "$$\\text{Output} \\approx \n",
    "    P_{tot} \\bigg({\\frac{K_r}{g_r}}\n",
    "    + {\\frac{\\alpha \\rho}{\\frac{K_d}{K_r}}}\\bigg)\n",
    "$$\n",
    "\n",
    "The dependency of the first term on $g_r$ causes deviation from ratiometric response."
   ]
  },
  {
   "cell_type": "markdown",
   "metadata": {},
   "source": [
    "### In Act / Deact\n",
    "* the first term in the output doesn't exist (since the free promoter has no transcription)\n",
    "\n",
    "Therefore, the output when in the ratiometric regime is:\n",
    "\n",
    "$$\\text{Output (Act/Deact)} \\approx \n",
    "    P_{tot} \\bigg({\\frac{\\rho}{\\frac{K_a}{K_r}}}\\bigg)\n",
    "$$\n",
    "\n",
    "No dependency on $g_r$"
   ]
  },
  {
   "cell_type": "markdown",
   "metadata": {},
   "source": [
    "# Putting numbers on it to get parameter constraints\n",
    "\n",
    "## The approach\n",
    "* define a desired range of $\\rho$ and $g_d$ values\n",
    "* see which circuit parameters allow you to reach those values\n",
    "\n",
    "### Alternative approach (once experimentally parameterized)\n",
    "* parameterize circuit from model and see which $\\rho$ and $g_d$ values the circuit can achieve given those parameters\n",
    "\n",
    "## Notes\n",
    "* all hypothethical numbers here roughly correspond to RPUs\n",
    "* these results should correspond to the act / deact just with $g_d = g_a$"
   ]
  },
  {
   "cell_type": "markdown",
   "metadata": {},
   "source": [
    "Constraint for output to be proportional to ratio:\n",
    "\n",
    "$$ \\rho << \\frac{1}{\\frac{K_r}{g_d} + \\frac{K_r}{K_d}}  $$\n",
    "\n",
    "In another way:\n",
    "\n",
    "$$  \\frac{K_r}{g_d} + \\frac{K_r}{K_d}  << \\frac{1}{\\rho}  $$"
   ]
  },
  {
   "cell_type": "markdown",
   "metadata": {},
   "source": [
    "## Desired ranges for $\\rho$ and $g_d$"
   ]
  },
  {
   "cell_type": "markdown",
   "metadata": {},
   "source": [
    "### $\\rho$ :\n",
    "Suppose we want the circuit to respond to values of $\\rho$ between 0.01 and 100 (4 orders of magnitude ratiometric response)\n",
    "* only need to care about upper value (100), since that is what will make the RHS the smallest (and make the inequality the hardest to satisfy)\n",
    "* call that maximum value of $\\rho$, $\\rho^+$"
   ]
  },
  {
   "cell_type": "markdown",
   "metadata": {},
   "source": [
    "### $g_d$ :\n",
    "Suppose we want $g_d$ to take values between 0.1 and 10\n",
    "* only need to care about lower value because that make the inequality the hardest to satisfy\n",
    "* call that minimum value of $g_d$, $g_d^-$"
   ]
  },
  {
   "cell_type": "markdown",
   "metadata": {},
   "source": [
    "Substitute the values into the constraint equation:\n",
    "\n",
    "$$  \\frac{K_r}{g_d^-} + \\frac{K_r}{K_d}  << \\frac{1}{\\rho^+}  $$\n",
    "\n",
    "Or:\n",
    "\n",
    "$$ {\\rho^+}  >> \\frac{1}{ \\frac{K_r}{g_d^-} + \\frac{K_r}{K_d}}  $$"
   ]
  },
  {
   "cell_type": "markdown",
   "metadata": {},
   "source": [
    "### Positivity constraints (Check this with someone, like Domitilla)\n",
    "* since all parameter and variable values must remain positive, two constraints pop out of two different forms of the above equation:\n",
    "* check that both of these branches must be true with Domitilla\n",
    "\n",
    "$$   \\frac{K_r}{K_d}  << \\frac{1}{\\rho^+} - \\frac{K_r}{g_d^-}  $$\n",
    "\n",
    "Since the RHS of the equation must be greater than 0:\n",
    "\n",
    "$$\n",
    "\\frac{1}{\\rho^+} > \\frac{K_r}{g_d^-}\\\\\n",
    "\\rho^+ < \\frac{g_d^-}{K_r}\n",
    "$$\n",
    "\n",
    "Second constraint:\n",
    "\n",
    "$$   \\frac{K_r}{g_d^-}  << \\frac{1}{\\rho^+} -  \\frac{K_r}{K_d} $$\n",
    "\n",
    "Means that:\n",
    "\n",
    "$$\n",
    "\\frac{1}{\\rho^+} >  \\frac{K_r}{K_d}\\\\\n",
    "\\rho^+ < \\frac{K_d}{K_r}\n",
    "$$"
   ]
  },
  {
   "cell_type": "markdown",
   "metadata": {},
   "source": [
    "The latter is a nice equation because it gives a constraint on maximum ratio purely as a function of $K_d$ and $K_r$"
   ]
  },
  {
   "cell_type": "markdown",
   "metadata": {},
   "source": [
    "### Using desired $\\rho^+$ and $g_d^-$ to get necessary parameters for ratio\n",
    "\n",
    "First define a \"sufficient\" condition for $>>$, e.g. $a >> b$ is satisfied if $a > C b$. The variable $a$ must be $C$-times as much as $b$ for the $>>$ condition to be considered satisfied, where $C \\in [1,\\infty]$.\n",
    "\n",
    "Use the same approach to get the constraint:\n",
    "\n",
    "$$\n",
    "\\rho^+ < \\frac{1}{C\\big(\\frac{K_r}{g_d^-} + \\frac{K_r}{K_d}\\big)} \n",
    "$$\n",
    "\n",
    "Plug in parameters and figure out maximum ratio, OR plug in maximum $\\rho$ and minimum $g_d$ to see what parameters would be necessary to reach it "
   ]
  },
  {
   "cell_type": "code",
   "execution_count": null,
   "metadata": {},
   "outputs": [],
   "source": []
  }
 ],
 "metadata": {
  "kernelspec": {
   "display_name": "Python 3",
   "language": "python",
   "name": "python3"
  },
  "language_info": {
   "codemirror_mode": {
    "name": "ipython",
    "version": 3
   },
   "file_extension": ".py",
   "mimetype": "text/x-python",
   "name": "python",
   "nbconvert_exporter": "python",
   "pygments_lexer": "ipython3",
   "version": "3.7.3"
  }
 },
 "nbformat": 4,
 "nbformat_minor": 2
}
